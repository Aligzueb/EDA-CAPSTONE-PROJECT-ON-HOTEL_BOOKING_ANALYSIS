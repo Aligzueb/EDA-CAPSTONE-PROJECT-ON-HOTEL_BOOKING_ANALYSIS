{
  "nbformat": 4,
  "nbformat_minor": 0,
  "metadata": {
    "kernelspec": {
      "display_name": "Python 3",
      "language": "python",
      "name": "python3"
    },
    "language_info": {
      "codemirror_mode": {
        "name": "ipython",
        "version": 3
      },
      "file_extension": ".py",
      "mimetype": "text/x-python",
      "name": "python",
      "nbconvert_exporter": "python",
      "pygments_lexer": "ipython3",
      "version": "3.6.6"
    },
    "colab": {
      "provenance": [],
      "collapsed_sections": [],
      "include_colab_link": true
    }
  },
  "cells": [
    {
      "cell_type": "markdown",
      "metadata": {
        "id": "view-in-github",
        "colab_type": "text"
      },
      "source": [
        "<a href=\"https://colab.research.google.com/github/Aligzueb/EDA-CAPSTONE-PROJECT-ON-HOTEL_BOOKING_ANALYSIS/blob/main/Individual_Project_Hotel_Booking_Analysis_Capstone_Project.ipynb\" target=\"_parent\"><img src=\"https://colab.research.google.com/assets/colab-badge.svg\" alt=\"Open In Colab\"/></a>"
      ]
    },
    {
      "cell_type": "markdown",
      "metadata": {
        "id": "Y06xIdG26kRF"
      },
      "source": [
        "## <b> Have you ever wondered when the best time of year to book a hotel room is? Or the optimal length of stay in order to get the best daily rate? What if you wanted to predict whether or not a hotel was likely to receive a disproportionately high number of special requests? This hotel booking dataset can help you explore those questions!\n",
        "\n",
        "## <b>This data set contains booking information for a city hotel and a resort hotel, and includes information such as when the booking was made, length of stay, the number of adults, children, and/or babies, and the number of available parking spaces, among other things. All personally identifying information has been removed from the data. </b>\n",
        "\n",
        "## <b> Explore and analyze the data to discover important factors that govern the bookings. </b>"
      ]
    },
    {
      "cell_type": "markdown",
      "source": [
        "**INTRODUCTION**\n",
        "\n",
        "The hotel booking data collection consists of binary, categorical, and numeric information. We were able to gain significant insights from the data set thanks to columns like the hotel type, is canceled, arrival date year, arrival date month, stays in weekend nights, country, market_segment, distribution_channel, etc. Here, our goal is to comprehend the crucial elements that influence hotel reservations.\n",
        "\n",
        "\n",
        "We will be using the data available to analyze the factors affecting the hotel bookings\n",
        "\n",
        "hotels avilable for booking\n",
        "\n",
        "*  hotels avilable for booking\n",
        "*  revenue of the hotels \n",
        "*  The types of booking\n",
        "*  booking month wise \n",
        "*  booking year wise\n",
        "*  booking country wise\n",
        "\n",
        "and many more \n",
        "\n",
        "\n",
        "\n",
        "\n"
      ],
      "metadata": {
        "id": "IrFtmDmenVCM"
      }
    },
    {
      "cell_type": "markdown",
      "source": [
        "\n",
        "## **To do very first import packages**"
      ],
      "metadata": {
        "id": "8KKxOlJyWYY5"
      }
    },
    {
      "cell_type": "code",
      "metadata": {
        "id": "dByMsuzT8Tnw"
      },
      "source": [
        "import numpy as np\n",
        "import pandas as pd\n",
        "import seaborn as sns\n",
        "import matplotlib.pyplot as plt\n",
        "%matplotlib inline"
      ],
      "execution_count": null,
      "outputs": []
    },
    {
      "cell_type": "code",
      "source": [
        "from google.colab import drive\n",
        "drive.mount('/content/drive')"
      ],
      "metadata": {
        "colab": {
          "base_uri": "https://localhost:8080/"
        },
        "id": "NfaM1OU2XuI2",
        "outputId": "48fb74b9-5c90-4681-f60a-40bfc2c9a440"
      },
      "execution_count": null,
      "outputs": [
        {
          "output_type": "stream",
          "name": "stdout",
          "text": [
            "Drive already mounted at /content/drive; to attempt to forcibly remount, call drive.mount(\"/content/drive\", force_remount=True).\n"
          ]
        }
      ]
    },
    {
      "cell_type": "markdown",
      "source": [
        "# **Let us read our data first**"
      ],
      "metadata": {
        "id": "HNJsSsQYYaXU"
      }
    },
    {
      "cell_type": "code",
      "source": [
        "hb_data_path = '/content/Hotel Bookings.csv'\n",
        "hb = pd.read_csv(hb_data_path)\n"
      ],
      "metadata": {
        "id": "EKCSUMEgYZDc"
      },
      "execution_count": null,
      "outputs": []
    },
    {
      "cell_type": "code",
      "source": [
        "# To know the number of rows and columns in given data set\n",
        "hb.shape"
      ],
      "metadata": {
        "colab": {
          "base_uri": "https://localhost:8080/"
        },
        "id": "p5rFteTSZv3V",
        "outputId": "7781d4c2-0c46-45e6-a384-4ae2b20e8321"
      },
      "execution_count": null,
      "outputs": [
        {
          "output_type": "execute_result",
          "data": {
            "text/plain": [
              "(119390, 32)"
            ]
          },
          "metadata": {},
          "execution_count": 13
        }
      ]
    },
    {
      "cell_type": "code",
      "source": [
        "# This is used to show the first 5 rows including all the columns of data \n",
        "hb.head()"
      ],
      "metadata": {
        "colab": {
          "base_uri": "https://localhost:8080/",
          "height": 386
        },
        "id": "Jv-DQeUEZcNb",
        "outputId": "f8f36c99-8eee-4056-d7d4-81667994780b"
      },
      "execution_count": null,
      "outputs": [
        {
          "output_type": "execute_result",
          "data": {
            "text/plain": [
              "          hotel  is_canceled  lead_time  arrival_date_year arrival_date_month  \\\n",
              "0  Resort Hotel            0        342               2015               July   \n",
              "1  Resort Hotel            0        737               2015               July   \n",
              "2  Resort Hotel            0          7               2015               July   \n",
              "3  Resort Hotel            0         13               2015               July   \n",
              "4  Resort Hotel            0         14               2015               July   \n",
              "\n",
              "   arrival_date_week_number  arrival_date_day_of_month  \\\n",
              "0                        27                          1   \n",
              "1                        27                          1   \n",
              "2                        27                          1   \n",
              "3                        27                          1   \n",
              "4                        27                          1   \n",
              "\n",
              "   stays_in_weekend_nights  stays_in_week_nights  adults  ...  deposit_type  \\\n",
              "0                        0                     0       2  ...    No Deposit   \n",
              "1                        0                     0       2  ...    No Deposit   \n",
              "2                        0                     1       1  ...    No Deposit   \n",
              "3                        0                     1       1  ...    No Deposit   \n",
              "4                        0                     2       2  ...    No Deposit   \n",
              "\n",
              "   agent company days_in_waiting_list customer_type   adr  \\\n",
              "0    NaN     NaN                    0     Transient   0.0   \n",
              "1    NaN     NaN                    0     Transient   0.0   \n",
              "2    NaN     NaN                    0     Transient  75.0   \n",
              "3  304.0     NaN                    0     Transient  75.0   \n",
              "4  240.0     NaN                    0     Transient  98.0   \n",
              "\n",
              "   required_car_parking_spaces  total_of_special_requests  reservation_status  \\\n",
              "0                            0                          0           Check-Out   \n",
              "1                            0                          0           Check-Out   \n",
              "2                            0                          0           Check-Out   \n",
              "3                            0                          0           Check-Out   \n",
              "4                            0                          1           Check-Out   \n",
              "\n",
              "  reservation_status_date  \n",
              "0              2015-07-01  \n",
              "1              2015-07-01  \n",
              "2              2015-07-02  \n",
              "3              2015-07-02  \n",
              "4              2015-07-03  \n",
              "\n",
              "[5 rows x 32 columns]"
            ],
            "text/html": [
              "\n",
              "  <div id=\"df-85b1df55-5192-401f-86c4-ff8f8f167e05\">\n",
              "    <div class=\"colab-df-container\">\n",
              "      <div>\n",
              "<style scoped>\n",
              "    .dataframe tbody tr th:only-of-type {\n",
              "        vertical-align: middle;\n",
              "    }\n",
              "\n",
              "    .dataframe tbody tr th {\n",
              "        vertical-align: top;\n",
              "    }\n",
              "\n",
              "    .dataframe thead th {\n",
              "        text-align: right;\n",
              "    }\n",
              "</style>\n",
              "<table border=\"1\" class=\"dataframe\">\n",
              "  <thead>\n",
              "    <tr style=\"text-align: right;\">\n",
              "      <th></th>\n",
              "      <th>hotel</th>\n",
              "      <th>is_canceled</th>\n",
              "      <th>lead_time</th>\n",
              "      <th>arrival_date_year</th>\n",
              "      <th>arrival_date_month</th>\n",
              "      <th>arrival_date_week_number</th>\n",
              "      <th>arrival_date_day_of_month</th>\n",
              "      <th>stays_in_weekend_nights</th>\n",
              "      <th>stays_in_week_nights</th>\n",
              "      <th>adults</th>\n",
              "      <th>...</th>\n",
              "      <th>deposit_type</th>\n",
              "      <th>agent</th>\n",
              "      <th>company</th>\n",
              "      <th>days_in_waiting_list</th>\n",
              "      <th>customer_type</th>\n",
              "      <th>adr</th>\n",
              "      <th>required_car_parking_spaces</th>\n",
              "      <th>total_of_special_requests</th>\n",
              "      <th>reservation_status</th>\n",
              "      <th>reservation_status_date</th>\n",
              "    </tr>\n",
              "  </thead>\n",
              "  <tbody>\n",
              "    <tr>\n",
              "      <th>0</th>\n",
              "      <td>Resort Hotel</td>\n",
              "      <td>0</td>\n",
              "      <td>342</td>\n",
              "      <td>2015</td>\n",
              "      <td>July</td>\n",
              "      <td>27</td>\n",
              "      <td>1</td>\n",
              "      <td>0</td>\n",
              "      <td>0</td>\n",
              "      <td>2</td>\n",
              "      <td>...</td>\n",
              "      <td>No Deposit</td>\n",
              "      <td>NaN</td>\n",
              "      <td>NaN</td>\n",
              "      <td>0</td>\n",
              "      <td>Transient</td>\n",
              "      <td>0.0</td>\n",
              "      <td>0</td>\n",
              "      <td>0</td>\n",
              "      <td>Check-Out</td>\n",
              "      <td>2015-07-01</td>\n",
              "    </tr>\n",
              "    <tr>\n",
              "      <th>1</th>\n",
              "      <td>Resort Hotel</td>\n",
              "      <td>0</td>\n",
              "      <td>737</td>\n",
              "      <td>2015</td>\n",
              "      <td>July</td>\n",
              "      <td>27</td>\n",
              "      <td>1</td>\n",
              "      <td>0</td>\n",
              "      <td>0</td>\n",
              "      <td>2</td>\n",
              "      <td>...</td>\n",
              "      <td>No Deposit</td>\n",
              "      <td>NaN</td>\n",
              "      <td>NaN</td>\n",
              "      <td>0</td>\n",
              "      <td>Transient</td>\n",
              "      <td>0.0</td>\n",
              "      <td>0</td>\n",
              "      <td>0</td>\n",
              "      <td>Check-Out</td>\n",
              "      <td>2015-07-01</td>\n",
              "    </tr>\n",
              "    <tr>\n",
              "      <th>2</th>\n",
              "      <td>Resort Hotel</td>\n",
              "      <td>0</td>\n",
              "      <td>7</td>\n",
              "      <td>2015</td>\n",
              "      <td>July</td>\n",
              "      <td>27</td>\n",
              "      <td>1</td>\n",
              "      <td>0</td>\n",
              "      <td>1</td>\n",
              "      <td>1</td>\n",
              "      <td>...</td>\n",
              "      <td>No Deposit</td>\n",
              "      <td>NaN</td>\n",
              "      <td>NaN</td>\n",
              "      <td>0</td>\n",
              "      <td>Transient</td>\n",
              "      <td>75.0</td>\n",
              "      <td>0</td>\n",
              "      <td>0</td>\n",
              "      <td>Check-Out</td>\n",
              "      <td>2015-07-02</td>\n",
              "    </tr>\n",
              "    <tr>\n",
              "      <th>3</th>\n",
              "      <td>Resort Hotel</td>\n",
              "      <td>0</td>\n",
              "      <td>13</td>\n",
              "      <td>2015</td>\n",
              "      <td>July</td>\n",
              "      <td>27</td>\n",
              "      <td>1</td>\n",
              "      <td>0</td>\n",
              "      <td>1</td>\n",
              "      <td>1</td>\n",
              "      <td>...</td>\n",
              "      <td>No Deposit</td>\n",
              "      <td>304.0</td>\n",
              "      <td>NaN</td>\n",
              "      <td>0</td>\n",
              "      <td>Transient</td>\n",
              "      <td>75.0</td>\n",
              "      <td>0</td>\n",
              "      <td>0</td>\n",
              "      <td>Check-Out</td>\n",
              "      <td>2015-07-02</td>\n",
              "    </tr>\n",
              "    <tr>\n",
              "      <th>4</th>\n",
              "      <td>Resort Hotel</td>\n",
              "      <td>0</td>\n",
              "      <td>14</td>\n",
              "      <td>2015</td>\n",
              "      <td>July</td>\n",
              "      <td>27</td>\n",
              "      <td>1</td>\n",
              "      <td>0</td>\n",
              "      <td>2</td>\n",
              "      <td>2</td>\n",
              "      <td>...</td>\n",
              "      <td>No Deposit</td>\n",
              "      <td>240.0</td>\n",
              "      <td>NaN</td>\n",
              "      <td>0</td>\n",
              "      <td>Transient</td>\n",
              "      <td>98.0</td>\n",
              "      <td>0</td>\n",
              "      <td>1</td>\n",
              "      <td>Check-Out</td>\n",
              "      <td>2015-07-03</td>\n",
              "    </tr>\n",
              "  </tbody>\n",
              "</table>\n",
              "<p>5 rows × 32 columns</p>\n",
              "</div>\n",
              "      <button class=\"colab-df-convert\" onclick=\"convertToInteractive('df-85b1df55-5192-401f-86c4-ff8f8f167e05')\"\n",
              "              title=\"Convert this dataframe to an interactive table.\"\n",
              "              style=\"display:none;\">\n",
              "        \n",
              "  <svg xmlns=\"http://www.w3.org/2000/svg\" height=\"24px\"viewBox=\"0 0 24 24\"\n",
              "       width=\"24px\">\n",
              "    <path d=\"M0 0h24v24H0V0z\" fill=\"none\"/>\n",
              "    <path d=\"M18.56 5.44l.94 2.06.94-2.06 2.06-.94-2.06-.94-.94-2.06-.94 2.06-2.06.94zm-11 1L8.5 8.5l.94-2.06 2.06-.94-2.06-.94L8.5 2.5l-.94 2.06-2.06.94zm10 10l.94 2.06.94-2.06 2.06-.94-2.06-.94-.94-2.06-.94 2.06-2.06.94z\"/><path d=\"M17.41 7.96l-1.37-1.37c-.4-.4-.92-.59-1.43-.59-.52 0-1.04.2-1.43.59L10.3 9.45l-7.72 7.72c-.78.78-.78 2.05 0 2.83L4 21.41c.39.39.9.59 1.41.59.51 0 1.02-.2 1.41-.59l7.78-7.78 2.81-2.81c.8-.78.8-2.07 0-2.86zM5.41 20L4 18.59l7.72-7.72 1.47 1.35L5.41 20z\"/>\n",
              "  </svg>\n",
              "      </button>\n",
              "      \n",
              "  <style>\n",
              "    .colab-df-container {\n",
              "      display:flex;\n",
              "      flex-wrap:wrap;\n",
              "      gap: 12px;\n",
              "    }\n",
              "\n",
              "    .colab-df-convert {\n",
              "      background-color: #E8F0FE;\n",
              "      border: none;\n",
              "      border-radius: 50%;\n",
              "      cursor: pointer;\n",
              "      display: none;\n",
              "      fill: #1967D2;\n",
              "      height: 32px;\n",
              "      padding: 0 0 0 0;\n",
              "      width: 32px;\n",
              "    }\n",
              "\n",
              "    .colab-df-convert:hover {\n",
              "      background-color: #E2EBFA;\n",
              "      box-shadow: 0px 1px 2px rgba(60, 64, 67, 0.3), 0px 1px 3px 1px rgba(60, 64, 67, 0.15);\n",
              "      fill: #174EA6;\n",
              "    }\n",
              "\n",
              "    [theme=dark] .colab-df-convert {\n",
              "      background-color: #3B4455;\n",
              "      fill: #D2E3FC;\n",
              "    }\n",
              "\n",
              "    [theme=dark] .colab-df-convert:hover {\n",
              "      background-color: #434B5C;\n",
              "      box-shadow: 0px 1px 3px 1px rgba(0, 0, 0, 0.15);\n",
              "      filter: drop-shadow(0px 1px 2px rgba(0, 0, 0, 0.3));\n",
              "      fill: #FFFFFF;\n",
              "    }\n",
              "  </style>\n",
              "\n",
              "      <script>\n",
              "        const buttonEl =\n",
              "          document.querySelector('#df-85b1df55-5192-401f-86c4-ff8f8f167e05 button.colab-df-convert');\n",
              "        buttonEl.style.display =\n",
              "          google.colab.kernel.accessAllowed ? 'block' : 'none';\n",
              "\n",
              "        async function convertToInteractive(key) {\n",
              "          const element = document.querySelector('#df-85b1df55-5192-401f-86c4-ff8f8f167e05');\n",
              "          const dataTable =\n",
              "            await google.colab.kernel.invokeFunction('convertToInteractive',\n",
              "                                                     [key], {});\n",
              "          if (!dataTable) return;\n",
              "\n",
              "          const docLinkHtml = 'Like what you see? Visit the ' +\n",
              "            '<a target=\"_blank\" href=https://colab.research.google.com/notebooks/data_table.ipynb>data table notebook</a>'\n",
              "            + ' to learn more about interactive tables.';\n",
              "          element.innerHTML = '';\n",
              "          dataTable['output_type'] = 'display_data';\n",
              "          await google.colab.output.renderOutput(dataTable, element);\n",
              "          const docLink = document.createElement('div');\n",
              "          docLink.innerHTML = docLinkHtml;\n",
              "          element.appendChild(docLink);\n",
              "        }\n",
              "      </script>\n",
              "    </div>\n",
              "  </div>\n",
              "  "
            ]
          },
          "metadata": {},
          "execution_count": 14
        }
      ]
    },
    {
      "cell_type": "code",
      "source": [
        "hb.info()"
      ],
      "metadata": {
        "colab": {
          "base_uri": "https://localhost:8080/"
        },
        "id": "zcKDVDNJa44k",
        "outputId": "f31b3efe-0a34-463b-d994-5c318bb7ac52"
      },
      "execution_count": null,
      "outputs": [
        {
          "output_type": "stream",
          "name": "stdout",
          "text": [
            "<class 'pandas.core.frame.DataFrame'>\n",
            "RangeIndex: 119390 entries, 0 to 119389\n",
            "Data columns (total 32 columns):\n",
            " #   Column                          Non-Null Count   Dtype  \n",
            "---  ------                          --------------   -----  \n",
            " 0   hotel                           119390 non-null  object \n",
            " 1   is_canceled                     119390 non-null  int64  \n",
            " 2   lead_time                       119390 non-null  int64  \n",
            " 3   arrival_date_year               119390 non-null  int64  \n",
            " 4   arrival_date_month              119390 non-null  object \n",
            " 5   arrival_date_week_number        119390 non-null  int64  \n",
            " 6   arrival_date_day_of_month       119390 non-null  int64  \n",
            " 7   stays_in_weekend_nights         119390 non-null  int64  \n",
            " 8   stays_in_week_nights            119390 non-null  int64  \n",
            " 9   adults                          119390 non-null  int64  \n",
            " 10  children                        119386 non-null  float64\n",
            " 11  babies                          119390 non-null  int64  \n",
            " 12  meal                            119390 non-null  object \n",
            " 13  country                         118902 non-null  object \n",
            " 14  market_segment                  119390 non-null  object \n",
            " 15  distribution_channel            119390 non-null  object \n",
            " 16  is_repeated_guest               119390 non-null  int64  \n",
            " 17  previous_cancellations          119390 non-null  int64  \n",
            " 18  previous_bookings_not_canceled  119390 non-null  int64  \n",
            " 19  reserved_room_type              119390 non-null  object \n",
            " 20  assigned_room_type              119390 non-null  object \n",
            " 21  booking_changes                 119390 non-null  int64  \n",
            " 22  deposit_type                    119390 non-null  object \n",
            " 23  agent                           103050 non-null  float64\n",
            " 24  company                         6797 non-null    float64\n",
            " 25  days_in_waiting_list            119390 non-null  int64  \n",
            " 26  customer_type                   119390 non-null  object \n",
            " 27  adr                             119390 non-null  float64\n",
            " 28  required_car_parking_spaces     119390 non-null  int64  \n",
            " 29  total_of_special_requests       119390 non-null  int64  \n",
            " 30  reservation_status              119390 non-null  object \n",
            " 31  reservation_status_date         119390 non-null  object \n",
            "dtypes: float64(4), int64(16), object(12)\n",
            "memory usage: 29.1+ MB\n"
          ]
        }
      ]
    },
    {
      "cell_type": "markdown",
      "source": [
        "# <u>**<code>describe()</code>**</u>\n",
        "\n",
        "## This method gives the overall descriptive summary of the dataframe. This works only for numerical columns"
      ],
      "metadata": {
        "id": "AAxc49BqdKf4"
      }
    },
    {
      "cell_type": "code",
      "source": [
        "hb.describe()"
      ],
      "metadata": {
        "colab": {
          "base_uri": "https://localhost:8080/",
          "height": 364
        },
        "id": "7aaBt9Sca-F5",
        "outputId": "39d0713c-c0d1-456b-a42e-0476fbed9391"
      },
      "execution_count": null,
      "outputs": [
        {
          "output_type": "execute_result",
          "data": {
            "text/plain": [
              "         is_canceled      lead_time  arrival_date_year  \\\n",
              "count  119390.000000  119390.000000      119390.000000   \n",
              "mean        0.370416     104.011416        2016.156554   \n",
              "std         0.482918     106.863097           0.707476   \n",
              "min         0.000000       0.000000        2015.000000   \n",
              "25%         0.000000      18.000000        2016.000000   \n",
              "50%         0.000000      69.000000        2016.000000   \n",
              "75%         1.000000     160.000000        2017.000000   \n",
              "max         1.000000     737.000000        2017.000000   \n",
              "\n",
              "       arrival_date_week_number  arrival_date_day_of_month  \\\n",
              "count             119390.000000              119390.000000   \n",
              "mean                  27.165173                  15.798241   \n",
              "std                   13.605138                   8.780829   \n",
              "min                    1.000000                   1.000000   \n",
              "25%                   16.000000                   8.000000   \n",
              "50%                   28.000000                  16.000000   \n",
              "75%                   38.000000                  23.000000   \n",
              "max                   53.000000                  31.000000   \n",
              "\n",
              "       stays_in_weekend_nights  stays_in_week_nights         adults  \\\n",
              "count            119390.000000         119390.000000  119390.000000   \n",
              "mean                  0.927599              2.500302       1.856403   \n",
              "std                   0.998613              1.908286       0.579261   \n",
              "min                   0.000000              0.000000       0.000000   \n",
              "25%                   0.000000              1.000000       2.000000   \n",
              "50%                   1.000000              2.000000       2.000000   \n",
              "75%                   2.000000              3.000000       2.000000   \n",
              "max                  19.000000             50.000000      55.000000   \n",
              "\n",
              "            children         babies  is_repeated_guest  \\\n",
              "count  119386.000000  119390.000000      119390.000000   \n",
              "mean        0.103890       0.007949           0.031912   \n",
              "std         0.398561       0.097436           0.175767   \n",
              "min         0.000000       0.000000           0.000000   \n",
              "25%         0.000000       0.000000           0.000000   \n",
              "50%         0.000000       0.000000           0.000000   \n",
              "75%         0.000000       0.000000           0.000000   \n",
              "max        10.000000      10.000000           1.000000   \n",
              "\n",
              "       previous_cancellations  previous_bookings_not_canceled  \\\n",
              "count           119390.000000                   119390.000000   \n",
              "mean                 0.087118                        0.137097   \n",
              "std                  0.844336                        1.497437   \n",
              "min                  0.000000                        0.000000   \n",
              "25%                  0.000000                        0.000000   \n",
              "50%                  0.000000                        0.000000   \n",
              "75%                  0.000000                        0.000000   \n",
              "max                 26.000000                       72.000000   \n",
              "\n",
              "       booking_changes          agent      company  days_in_waiting_list  \\\n",
              "count    119390.000000  103050.000000  6797.000000         119390.000000   \n",
              "mean          0.221124      86.693382   189.266735              2.321149   \n",
              "std           0.652306     110.774548   131.655015             17.594721   \n",
              "min           0.000000       1.000000     6.000000              0.000000   \n",
              "25%           0.000000       9.000000    62.000000              0.000000   \n",
              "50%           0.000000      14.000000   179.000000              0.000000   \n",
              "75%           0.000000     229.000000   270.000000              0.000000   \n",
              "max          21.000000     535.000000   543.000000            391.000000   \n",
              "\n",
              "                 adr  required_car_parking_spaces  total_of_special_requests  \n",
              "count  119390.000000                119390.000000              119390.000000  \n",
              "mean      101.831122                     0.062518                   0.571363  \n",
              "std        50.535790                     0.245291                   0.792798  \n",
              "min        -6.380000                     0.000000                   0.000000  \n",
              "25%        69.290000                     0.000000                   0.000000  \n",
              "50%        94.575000                     0.000000                   0.000000  \n",
              "75%       126.000000                     0.000000                   1.000000  \n",
              "max      5400.000000                     8.000000                   5.000000  "
            ],
            "text/html": [
              "\n",
              "  <div id=\"df-3aed775c-b124-4203-8957-d1e13f39a5a1\">\n",
              "    <div class=\"colab-df-container\">\n",
              "      <div>\n",
              "<style scoped>\n",
              "    .dataframe tbody tr th:only-of-type {\n",
              "        vertical-align: middle;\n",
              "    }\n",
              "\n",
              "    .dataframe tbody tr th {\n",
              "        vertical-align: top;\n",
              "    }\n",
              "\n",
              "    .dataframe thead th {\n",
              "        text-align: right;\n",
              "    }\n",
              "</style>\n",
              "<table border=\"1\" class=\"dataframe\">\n",
              "  <thead>\n",
              "    <tr style=\"text-align: right;\">\n",
              "      <th></th>\n",
              "      <th>is_canceled</th>\n",
              "      <th>lead_time</th>\n",
              "      <th>arrival_date_year</th>\n",
              "      <th>arrival_date_week_number</th>\n",
              "      <th>arrival_date_day_of_month</th>\n",
              "      <th>stays_in_weekend_nights</th>\n",
              "      <th>stays_in_week_nights</th>\n",
              "      <th>adults</th>\n",
              "      <th>children</th>\n",
              "      <th>babies</th>\n",
              "      <th>is_repeated_guest</th>\n",
              "      <th>previous_cancellations</th>\n",
              "      <th>previous_bookings_not_canceled</th>\n",
              "      <th>booking_changes</th>\n",
              "      <th>agent</th>\n",
              "      <th>company</th>\n",
              "      <th>days_in_waiting_list</th>\n",
              "      <th>adr</th>\n",
              "      <th>required_car_parking_spaces</th>\n",
              "      <th>total_of_special_requests</th>\n",
              "    </tr>\n",
              "  </thead>\n",
              "  <tbody>\n",
              "    <tr>\n",
              "      <th>count</th>\n",
              "      <td>119390.000000</td>\n",
              "      <td>119390.000000</td>\n",
              "      <td>119390.000000</td>\n",
              "      <td>119390.000000</td>\n",
              "      <td>119390.000000</td>\n",
              "      <td>119390.000000</td>\n",
              "      <td>119390.000000</td>\n",
              "      <td>119390.000000</td>\n",
              "      <td>119386.000000</td>\n",
              "      <td>119390.000000</td>\n",
              "      <td>119390.000000</td>\n",
              "      <td>119390.000000</td>\n",
              "      <td>119390.000000</td>\n",
              "      <td>119390.000000</td>\n",
              "      <td>103050.000000</td>\n",
              "      <td>6797.000000</td>\n",
              "      <td>119390.000000</td>\n",
              "      <td>119390.000000</td>\n",
              "      <td>119390.000000</td>\n",
              "      <td>119390.000000</td>\n",
              "    </tr>\n",
              "    <tr>\n",
              "      <th>mean</th>\n",
              "      <td>0.370416</td>\n",
              "      <td>104.011416</td>\n",
              "      <td>2016.156554</td>\n",
              "      <td>27.165173</td>\n",
              "      <td>15.798241</td>\n",
              "      <td>0.927599</td>\n",
              "      <td>2.500302</td>\n",
              "      <td>1.856403</td>\n",
              "      <td>0.103890</td>\n",
              "      <td>0.007949</td>\n",
              "      <td>0.031912</td>\n",
              "      <td>0.087118</td>\n",
              "      <td>0.137097</td>\n",
              "      <td>0.221124</td>\n",
              "      <td>86.693382</td>\n",
              "      <td>189.266735</td>\n",
              "      <td>2.321149</td>\n",
              "      <td>101.831122</td>\n",
              "      <td>0.062518</td>\n",
              "      <td>0.571363</td>\n",
              "    </tr>\n",
              "    <tr>\n",
              "      <th>std</th>\n",
              "      <td>0.482918</td>\n",
              "      <td>106.863097</td>\n",
              "      <td>0.707476</td>\n",
              "      <td>13.605138</td>\n",
              "      <td>8.780829</td>\n",
              "      <td>0.998613</td>\n",
              "      <td>1.908286</td>\n",
              "      <td>0.579261</td>\n",
              "      <td>0.398561</td>\n",
              "      <td>0.097436</td>\n",
              "      <td>0.175767</td>\n",
              "      <td>0.844336</td>\n",
              "      <td>1.497437</td>\n",
              "      <td>0.652306</td>\n",
              "      <td>110.774548</td>\n",
              "      <td>131.655015</td>\n",
              "      <td>17.594721</td>\n",
              "      <td>50.535790</td>\n",
              "      <td>0.245291</td>\n",
              "      <td>0.792798</td>\n",
              "    </tr>\n",
              "    <tr>\n",
              "      <th>min</th>\n",
              "      <td>0.000000</td>\n",
              "      <td>0.000000</td>\n",
              "      <td>2015.000000</td>\n",
              "      <td>1.000000</td>\n",
              "      <td>1.000000</td>\n",
              "      <td>0.000000</td>\n",
              "      <td>0.000000</td>\n",
              "      <td>0.000000</td>\n",
              "      <td>0.000000</td>\n",
              "      <td>0.000000</td>\n",
              "      <td>0.000000</td>\n",
              "      <td>0.000000</td>\n",
              "      <td>0.000000</td>\n",
              "      <td>0.000000</td>\n",
              "      <td>1.000000</td>\n",
              "      <td>6.000000</td>\n",
              "      <td>0.000000</td>\n",
              "      <td>-6.380000</td>\n",
              "      <td>0.000000</td>\n",
              "      <td>0.000000</td>\n",
              "    </tr>\n",
              "    <tr>\n",
              "      <th>25%</th>\n",
              "      <td>0.000000</td>\n",
              "      <td>18.000000</td>\n",
              "      <td>2016.000000</td>\n",
              "      <td>16.000000</td>\n",
              "      <td>8.000000</td>\n",
              "      <td>0.000000</td>\n",
              "      <td>1.000000</td>\n",
              "      <td>2.000000</td>\n",
              "      <td>0.000000</td>\n",
              "      <td>0.000000</td>\n",
              "      <td>0.000000</td>\n",
              "      <td>0.000000</td>\n",
              "      <td>0.000000</td>\n",
              "      <td>0.000000</td>\n",
              "      <td>9.000000</td>\n",
              "      <td>62.000000</td>\n",
              "      <td>0.000000</td>\n",
              "      <td>69.290000</td>\n",
              "      <td>0.000000</td>\n",
              "      <td>0.000000</td>\n",
              "    </tr>\n",
              "    <tr>\n",
              "      <th>50%</th>\n",
              "      <td>0.000000</td>\n",
              "      <td>69.000000</td>\n",
              "      <td>2016.000000</td>\n",
              "      <td>28.000000</td>\n",
              "      <td>16.000000</td>\n",
              "      <td>1.000000</td>\n",
              "      <td>2.000000</td>\n",
              "      <td>2.000000</td>\n",
              "      <td>0.000000</td>\n",
              "      <td>0.000000</td>\n",
              "      <td>0.000000</td>\n",
              "      <td>0.000000</td>\n",
              "      <td>0.000000</td>\n",
              "      <td>0.000000</td>\n",
              "      <td>14.000000</td>\n",
              "      <td>179.000000</td>\n",
              "      <td>0.000000</td>\n",
              "      <td>94.575000</td>\n",
              "      <td>0.000000</td>\n",
              "      <td>0.000000</td>\n",
              "    </tr>\n",
              "    <tr>\n",
              "      <th>75%</th>\n",
              "      <td>1.000000</td>\n",
              "      <td>160.000000</td>\n",
              "      <td>2017.000000</td>\n",
              "      <td>38.000000</td>\n",
              "      <td>23.000000</td>\n",
              "      <td>2.000000</td>\n",
              "      <td>3.000000</td>\n",
              "      <td>2.000000</td>\n",
              "      <td>0.000000</td>\n",
              "      <td>0.000000</td>\n",
              "      <td>0.000000</td>\n",
              "      <td>0.000000</td>\n",
              "      <td>0.000000</td>\n",
              "      <td>0.000000</td>\n",
              "      <td>229.000000</td>\n",
              "      <td>270.000000</td>\n",
              "      <td>0.000000</td>\n",
              "      <td>126.000000</td>\n",
              "      <td>0.000000</td>\n",
              "      <td>1.000000</td>\n",
              "    </tr>\n",
              "    <tr>\n",
              "      <th>max</th>\n",
              "      <td>1.000000</td>\n",
              "      <td>737.000000</td>\n",
              "      <td>2017.000000</td>\n",
              "      <td>53.000000</td>\n",
              "      <td>31.000000</td>\n",
              "      <td>19.000000</td>\n",
              "      <td>50.000000</td>\n",
              "      <td>55.000000</td>\n",
              "      <td>10.000000</td>\n",
              "      <td>10.000000</td>\n",
              "      <td>1.000000</td>\n",
              "      <td>26.000000</td>\n",
              "      <td>72.000000</td>\n",
              "      <td>21.000000</td>\n",
              "      <td>535.000000</td>\n",
              "      <td>543.000000</td>\n",
              "      <td>391.000000</td>\n",
              "      <td>5400.000000</td>\n",
              "      <td>8.000000</td>\n",
              "      <td>5.000000</td>\n",
              "    </tr>\n",
              "  </tbody>\n",
              "</table>\n",
              "</div>\n",
              "      <button class=\"colab-df-convert\" onclick=\"convertToInteractive('df-3aed775c-b124-4203-8957-d1e13f39a5a1')\"\n",
              "              title=\"Convert this dataframe to an interactive table.\"\n",
              "              style=\"display:none;\">\n",
              "        \n",
              "  <svg xmlns=\"http://www.w3.org/2000/svg\" height=\"24px\"viewBox=\"0 0 24 24\"\n",
              "       width=\"24px\">\n",
              "    <path d=\"M0 0h24v24H0V0z\" fill=\"none\"/>\n",
              "    <path d=\"M18.56 5.44l.94 2.06.94-2.06 2.06-.94-2.06-.94-.94-2.06-.94 2.06-2.06.94zm-11 1L8.5 8.5l.94-2.06 2.06-.94-2.06-.94L8.5 2.5l-.94 2.06-2.06.94zm10 10l.94 2.06.94-2.06 2.06-.94-2.06-.94-.94-2.06-.94 2.06-2.06.94z\"/><path d=\"M17.41 7.96l-1.37-1.37c-.4-.4-.92-.59-1.43-.59-.52 0-1.04.2-1.43.59L10.3 9.45l-7.72 7.72c-.78.78-.78 2.05 0 2.83L4 21.41c.39.39.9.59 1.41.59.51 0 1.02-.2 1.41-.59l7.78-7.78 2.81-2.81c.8-.78.8-2.07 0-2.86zM5.41 20L4 18.59l7.72-7.72 1.47 1.35L5.41 20z\"/>\n",
              "  </svg>\n",
              "      </button>\n",
              "      \n",
              "  <style>\n",
              "    .colab-df-container {\n",
              "      display:flex;\n",
              "      flex-wrap:wrap;\n",
              "      gap: 12px;\n",
              "    }\n",
              "\n",
              "    .colab-df-convert {\n",
              "      background-color: #E8F0FE;\n",
              "      border: none;\n",
              "      border-radius: 50%;\n",
              "      cursor: pointer;\n",
              "      display: none;\n",
              "      fill: #1967D2;\n",
              "      height: 32px;\n",
              "      padding: 0 0 0 0;\n",
              "      width: 32px;\n",
              "    }\n",
              "\n",
              "    .colab-df-convert:hover {\n",
              "      background-color: #E2EBFA;\n",
              "      box-shadow: 0px 1px 2px rgba(60, 64, 67, 0.3), 0px 1px 3px 1px rgba(60, 64, 67, 0.15);\n",
              "      fill: #174EA6;\n",
              "    }\n",
              "\n",
              "    [theme=dark] .colab-df-convert {\n",
              "      background-color: #3B4455;\n",
              "      fill: #D2E3FC;\n",
              "    }\n",
              "\n",
              "    [theme=dark] .colab-df-convert:hover {\n",
              "      background-color: #434B5C;\n",
              "      box-shadow: 0px 1px 3px 1px rgba(0, 0, 0, 0.15);\n",
              "      filter: drop-shadow(0px 1px 2px rgba(0, 0, 0, 0.3));\n",
              "      fill: #FFFFFF;\n",
              "    }\n",
              "  </style>\n",
              "\n",
              "      <script>\n",
              "        const buttonEl =\n",
              "          document.querySelector('#df-3aed775c-b124-4203-8957-d1e13f39a5a1 button.colab-df-convert');\n",
              "        buttonEl.style.display =\n",
              "          google.colab.kernel.accessAllowed ? 'block' : 'none';\n",
              "\n",
              "        async function convertToInteractive(key) {\n",
              "          const element = document.querySelector('#df-3aed775c-b124-4203-8957-d1e13f39a5a1');\n",
              "          const dataTable =\n",
              "            await google.colab.kernel.invokeFunction('convertToInteractive',\n",
              "                                                     [key], {});\n",
              "          if (!dataTable) return;\n",
              "\n",
              "          const docLinkHtml = 'Like what you see? Visit the ' +\n",
              "            '<a target=\"_blank\" href=https://colab.research.google.com/notebooks/data_table.ipynb>data table notebook</a>'\n",
              "            + ' to learn more about interactive tables.';\n",
              "          element.innerHTML = '';\n",
              "          dataTable['output_type'] = 'display_data';\n",
              "          await google.colab.output.renderOutput(dataTable, element);\n",
              "          const docLink = document.createElement('div');\n",
              "          docLink.innerHTML = docLinkHtml;\n",
              "          element.appendChild(docLink);\n",
              "        }\n",
              "      </script>\n",
              "    </div>\n",
              "  </div>\n",
              "  "
            ]
          },
          "metadata": {},
          "execution_count": 16
        }
      ]
    },
    {
      "cell_type": "markdown",
      "source": [
        "## **Now we will do data cleaning**"
      ],
      "metadata": {
        "id": "CywYJDp2fPMs"
      }
    },
    {
      "cell_type": "markdown",
      "source": [
        "First replacing null value with 0"
      ],
      "metadata": {
        "id": "9WgTUA6rSN5n"
      }
    },
    {
      "cell_type": "code",
      "source": [
        "# Find Null values\n",
        "hb.isna().sum().sort_values()"
      ],
      "metadata": {
        "colab": {
          "base_uri": "https://localhost:8080/"
        },
        "id": "LD8tHHnTdSV3",
        "outputId": "b85acdaa-b782-4a72-a3ad-3abbb8a82a14"
      },
      "execution_count": null,
      "outputs": [
        {
          "output_type": "execute_result",
          "data": {
            "text/plain": [
              "hotel                                  0\n",
              "total_of_special_requests              0\n",
              "required_car_parking_spaces            0\n",
              "adr                                    0\n",
              "customer_type                          0\n",
              "days_in_waiting_list                   0\n",
              "deposit_type                           0\n",
              "booking_changes                        0\n",
              "assigned_room_type                     0\n",
              "reserved_room_type                     0\n",
              "previous_bookings_not_canceled         0\n",
              "previous_cancellations                 0\n",
              "is_repeated_guest                      0\n",
              "reservation_status                     0\n",
              "distribution_channel                   0\n",
              "reservation_status_date                0\n",
              "meal                                   0\n",
              "babies                                 0\n",
              "adults                                 0\n",
              "stays_in_week_nights                   0\n",
              "stays_in_weekend_nights                0\n",
              "arrival_date_day_of_month              0\n",
              "market_segment                         0\n",
              "is_canceled                            0\n",
              "arrival_date_week_number               0\n",
              "arrival_date_month                     0\n",
              "arrival_date_year                      0\n",
              "lead_time                              0\n",
              "children                               4\n",
              "country                              488\n",
              "agent                              16340\n",
              "company                           112593\n",
              "dtype: int64"
            ]
          },
          "metadata": {},
          "execution_count": 17
        }
      ]
    },
    {
      "cell_type": "markdown",
      "source": [
        "We are trying to find null values across different columns in the data frame. If present in some of these, we will replace them with appropriate values"
      ],
      "metadata": {
        "id": "x08fFPlQ17Fw"
      }
    },
    {
      "cell_type": "markdown",
      "source": [
        "We have 4 features with missing values.\n",
        "\n",
        "\n",
        "* In the agent and the company column, we have id_number for each agent or     company, so for all the missing values, we will just replace it with 0.\n",
        "\n",
        "*   Children column contains the count of children, so we will replace all the missing values with 0.\n",
        "\n",
        "* And our country column contains country codes representing different countries so also replace it with 0.\n",
        "\n",
        "\n",
        "\n",
        "\n"
      ],
      "metadata": {
        "id": "Oi5VdYfgceVH"
      }
    },
    {
      "cell_type": "code",
      "source": [
        "#Replacing Null values with izero \n",
        "\n",
        "hb.fillna(0, inplace=True)"
      ],
      "metadata": {
        "id": "vAuNDvFjgHen"
      },
      "execution_count": null,
      "outputs": []
    },
    {
      "cell_type": "code",
      "source": [
        "hb.isna().sum()"
      ],
      "metadata": {
        "colab": {
          "base_uri": "https://localhost:8080/"
        },
        "id": "seRjUzICha1T",
        "outputId": "3a683cc6-0a3e-453b-c554-d1fbd909a25c"
      },
      "execution_count": null,
      "outputs": [
        {
          "output_type": "execute_result",
          "data": {
            "text/plain": [
              "hotel                             0\n",
              "is_canceled                       0\n",
              "lead_time                         0\n",
              "arrival_date_year                 0\n",
              "arrival_date_month                0\n",
              "arrival_date_week_number          0\n",
              "arrival_date_day_of_month         0\n",
              "stays_in_weekend_nights           0\n",
              "stays_in_week_nights              0\n",
              "adults                            0\n",
              "children                          0\n",
              "babies                            0\n",
              "meal                              0\n",
              "country                           0\n",
              "market_segment                    0\n",
              "distribution_channel              0\n",
              "is_repeated_guest                 0\n",
              "previous_cancellations            0\n",
              "previous_bookings_not_canceled    0\n",
              "reserved_room_type                0\n",
              "assigned_room_type                0\n",
              "booking_changes                   0\n",
              "deposit_type                      0\n",
              "agent                             0\n",
              "company                           0\n",
              "days_in_waiting_list              0\n",
              "customer_type                     0\n",
              "adr                               0\n",
              "required_car_parking_spaces       0\n",
              "total_of_special_requests         0\n",
              "reservation_status                0\n",
              "reservation_status_date           0\n",
              "dtype: int64"
            ]
          },
          "metadata": {},
          "execution_count": 19
        }
      ]
    },
    {
      "cell_type": "markdown",
      "source": [
        "Now we can see there is no null value in hotel booking dataframe\n"
      ],
      "metadata": {
        "id": "caZb0HRnQLwv"
      }
    },
    {
      "cell_type": "markdown",
      "source": [
        "## Now we will check for the wrong entry\n",
        "\n",
        "As we can see in the data set there are 3 categories of guests which are children , adults and babies"
      ],
      "metadata": {
        "id": "GLG2KBl3SY2N"
      }
    },
    {
      "cell_type": "code",
      "source": [
        "#checking value of children\n",
        "hb['children'].unique()"
      ],
      "metadata": {
        "colab": {
          "base_uri": "https://localhost:8080/"
        },
        "id": "RIUS6mQ7hk5R",
        "outputId": "2219eaea-41a0-4cde-993f-c586800f2855"
      },
      "execution_count": null,
      "outputs": [
        {
          "output_type": "execute_result",
          "data": {
            "text/plain": [
              "array([ 0.,  1.,  2., 10.,  3.])"
            ]
          },
          "metadata": {},
          "execution_count": 20
        }
      ]
    },
    {
      "cell_type": "code",
      "source": [
        "#checking value of adults\n",
        "hb['adults'].unique()"
      ],
      "metadata": {
        "colab": {
          "base_uri": "https://localhost:8080/"
        },
        "id": "uomZ54xgVcj0",
        "outputId": "c365c2a7-5729-489d-9435-2f9bd6a47482"
      },
      "execution_count": null,
      "outputs": [
        {
          "output_type": "execute_result",
          "data": {
            "text/plain": [
              "array([ 2,  1,  3,  4, 40, 26, 50, 27, 55,  0, 20,  6,  5, 10])"
            ]
          },
          "metadata": {},
          "execution_count": 21
        }
      ]
    },
    {
      "cell_type": "code",
      "source": [
        "#checking value of babies\n",
        "hb['babies'].unique()"
      ],
      "metadata": {
        "colab": {
          "base_uri": "https://localhost:8080/"
        },
        "id": "4K4KOeUDWXKW",
        "outputId": "dc8a3980-639a-4ea7-b8fb-0b1f71a92599"
      },
      "execution_count": null,
      "outputs": [
        {
          "output_type": "execute_result",
          "data": {
            "text/plain": [
              "array([ 0,  1,  2, 10,  9])"
            ]
          },
          "metadata": {},
          "execution_count": 22
        }
      ]
    },
    {
      "cell_type": "markdown",
      "source": [
        "**If hotel is booked than there should be any entries in children,adults or babies columns,it should not zero at a time**\n",
        "\n",
        "So to check this we will filter the data"
      ],
      "metadata": {
        "id": "hZ_qbEdVd0Px"
      }
    },
    {
      "cell_type": "code",
      "source": [
        "# Filter data where value of adults, children and babies = 0\n",
        "\n",
        "checked_values = (hb['children']==0) & (hb['adults']==0) & (hb['babies']==0)\n",
        "\n",
        "# reading data frame where adult,children and babies are 0\n",
        "hb[checked_values]"
      ],
      "metadata": {
        "colab": {
          "base_uri": "https://localhost:8080/",
          "height": 661
        },
        "id": "VTEZJKkfWydk",
        "outputId": "9513a827-0327-4c92-cdd2-d1919e434524"
      },
      "execution_count": null,
      "outputs": [
        {
          "output_type": "execute_result",
          "data": {
            "text/plain": [
              "               hotel  is_canceled  lead_time  arrival_date_year  \\\n",
              "2224    Resort Hotel            0          1               2015   \n",
              "2409    Resort Hotel            0          0               2015   \n",
              "3181    Resort Hotel            0         36               2015   \n",
              "3684    Resort Hotel            0        165               2015   \n",
              "3708    Resort Hotel            0        165               2015   \n",
              "...              ...          ...        ...                ...   \n",
              "115029    City Hotel            0        107               2017   \n",
              "115091    City Hotel            0          1               2017   \n",
              "116251    City Hotel            0         44               2017   \n",
              "116534    City Hotel            0          2               2017   \n",
              "117087    City Hotel            0        170               2017   \n",
              "\n",
              "       arrival_date_month  arrival_date_week_number  \\\n",
              "2224              October                        41   \n",
              "2409              October                        42   \n",
              "3181             November                        47   \n",
              "3684             December                        53   \n",
              "3708             December                        53   \n",
              "...                   ...                       ...   \n",
              "115029               June                        26   \n",
              "115091               June                        26   \n",
              "116251               July                        28   \n",
              "116534               July                        28   \n",
              "117087               July                        30   \n",
              "\n",
              "        arrival_date_day_of_month  stays_in_weekend_nights  \\\n",
              "2224                            6                        0   \n",
              "2409                           12                        0   \n",
              "3181                           20                        1   \n",
              "3684                           30                        1   \n",
              "3708                           30                        2   \n",
              "...                           ...                      ...   \n",
              "115029                         27                        0   \n",
              "115091                         30                        0   \n",
              "116251                         15                        1   \n",
              "116534                         15                        2   \n",
              "117087                         27                        0   \n",
              "\n",
              "        stays_in_week_nights  adults  ...  deposit_type  agent company  \\\n",
              "2224                       3       0  ...    No Deposit    0.0   174.0   \n",
              "2409                       0       0  ...    No Deposit    0.0   174.0   \n",
              "3181                       2       0  ...    No Deposit   38.0     0.0   \n",
              "3684                       4       0  ...    No Deposit  308.0     0.0   \n",
              "3708                       4       0  ...    No Deposit  308.0     0.0   \n",
              "...                      ...     ...  ...           ...    ...     ...   \n",
              "115029                     3       0  ...    No Deposit    7.0     0.0   \n",
              "115091                     1       0  ...    No Deposit    0.0     0.0   \n",
              "116251                     1       0  ...    No Deposit  425.0     0.0   \n",
              "116534                     5       0  ...    No Deposit    9.0     0.0   \n",
              "117087                     2       0  ...    No Deposit   52.0     0.0   \n",
              "\n",
              "       days_in_waiting_list    customer_type     adr  \\\n",
              "2224                      0  Transient-Party    0.00   \n",
              "2409                      0        Transient    0.00   \n",
              "3181                      0  Transient-Party    0.00   \n",
              "3684                    122  Transient-Party    0.00   \n",
              "3708                    122  Transient-Party    0.00   \n",
              "...                     ...              ...     ...   \n",
              "115029                    0        Transient  100.80   \n",
              "115091                    0        Transient    0.00   \n",
              "116251                    0        Transient   73.80   \n",
              "116534                    0  Transient-Party   22.86   \n",
              "117087                    0        Transient    0.00   \n",
              "\n",
              "        required_car_parking_spaces  total_of_special_requests  \\\n",
              "2224                              0                          0   \n",
              "2409                              0                          0   \n",
              "3181                              0                          0   \n",
              "3684                              0                          0   \n",
              "3708                              0                          0   \n",
              "...                             ...                        ...   \n",
              "115029                            0                          0   \n",
              "115091                            1                          1   \n",
              "116251                            0                          0   \n",
              "116534                            0                          1   \n",
              "117087                            0                          0   \n",
              "\n",
              "        reservation_status reservation_status_date  \n",
              "2224             Check-Out              2015-10-06  \n",
              "2409             Check-Out              2015-10-12  \n",
              "3181             Check-Out              2015-11-23  \n",
              "3684             Check-Out              2016-01-04  \n",
              "3708             Check-Out              2016-01-05  \n",
              "...                    ...                     ...  \n",
              "115029           Check-Out              2017-06-30  \n",
              "115091           Check-Out              2017-07-01  \n",
              "116251           Check-Out              2017-07-17  \n",
              "116534           Check-Out              2017-07-22  \n",
              "117087           Check-Out              2017-07-29  \n",
              "\n",
              "[180 rows x 32 columns]"
            ],
            "text/html": [
              "\n",
              "  <div id=\"df-897d71d3-f545-4dfd-b2cc-b11cff9824f2\">\n",
              "    <div class=\"colab-df-container\">\n",
              "      <div>\n",
              "<style scoped>\n",
              "    .dataframe tbody tr th:only-of-type {\n",
              "        vertical-align: middle;\n",
              "    }\n",
              "\n",
              "    .dataframe tbody tr th {\n",
              "        vertical-align: top;\n",
              "    }\n",
              "\n",
              "    .dataframe thead th {\n",
              "        text-align: right;\n",
              "    }\n",
              "</style>\n",
              "<table border=\"1\" class=\"dataframe\">\n",
              "  <thead>\n",
              "    <tr style=\"text-align: right;\">\n",
              "      <th></th>\n",
              "      <th>hotel</th>\n",
              "      <th>is_canceled</th>\n",
              "      <th>lead_time</th>\n",
              "      <th>arrival_date_year</th>\n",
              "      <th>arrival_date_month</th>\n",
              "      <th>arrival_date_week_number</th>\n",
              "      <th>arrival_date_day_of_month</th>\n",
              "      <th>stays_in_weekend_nights</th>\n",
              "      <th>stays_in_week_nights</th>\n",
              "      <th>adults</th>\n",
              "      <th>...</th>\n",
              "      <th>deposit_type</th>\n",
              "      <th>agent</th>\n",
              "      <th>company</th>\n",
              "      <th>days_in_waiting_list</th>\n",
              "      <th>customer_type</th>\n",
              "      <th>adr</th>\n",
              "      <th>required_car_parking_spaces</th>\n",
              "      <th>total_of_special_requests</th>\n",
              "      <th>reservation_status</th>\n",
              "      <th>reservation_status_date</th>\n",
              "    </tr>\n",
              "  </thead>\n",
              "  <tbody>\n",
              "    <tr>\n",
              "      <th>2224</th>\n",
              "      <td>Resort Hotel</td>\n",
              "      <td>0</td>\n",
              "      <td>1</td>\n",
              "      <td>2015</td>\n",
              "      <td>October</td>\n",
              "      <td>41</td>\n",
              "      <td>6</td>\n",
              "      <td>0</td>\n",
              "      <td>3</td>\n",
              "      <td>0</td>\n",
              "      <td>...</td>\n",
              "      <td>No Deposit</td>\n",
              "      <td>0.0</td>\n",
              "      <td>174.0</td>\n",
              "      <td>0</td>\n",
              "      <td>Transient-Party</td>\n",
              "      <td>0.00</td>\n",
              "      <td>0</td>\n",
              "      <td>0</td>\n",
              "      <td>Check-Out</td>\n",
              "      <td>2015-10-06</td>\n",
              "    </tr>\n",
              "    <tr>\n",
              "      <th>2409</th>\n",
              "      <td>Resort Hotel</td>\n",
              "      <td>0</td>\n",
              "      <td>0</td>\n",
              "      <td>2015</td>\n",
              "      <td>October</td>\n",
              "      <td>42</td>\n",
              "      <td>12</td>\n",
              "      <td>0</td>\n",
              "      <td>0</td>\n",
              "      <td>0</td>\n",
              "      <td>...</td>\n",
              "      <td>No Deposit</td>\n",
              "      <td>0.0</td>\n",
              "      <td>174.0</td>\n",
              "      <td>0</td>\n",
              "      <td>Transient</td>\n",
              "      <td>0.00</td>\n",
              "      <td>0</td>\n",
              "      <td>0</td>\n",
              "      <td>Check-Out</td>\n",
              "      <td>2015-10-12</td>\n",
              "    </tr>\n",
              "    <tr>\n",
              "      <th>3181</th>\n",
              "      <td>Resort Hotel</td>\n",
              "      <td>0</td>\n",
              "      <td>36</td>\n",
              "      <td>2015</td>\n",
              "      <td>November</td>\n",
              "      <td>47</td>\n",
              "      <td>20</td>\n",
              "      <td>1</td>\n",
              "      <td>2</td>\n",
              "      <td>0</td>\n",
              "      <td>...</td>\n",
              "      <td>No Deposit</td>\n",
              "      <td>38.0</td>\n",
              "      <td>0.0</td>\n",
              "      <td>0</td>\n",
              "      <td>Transient-Party</td>\n",
              "      <td>0.00</td>\n",
              "      <td>0</td>\n",
              "      <td>0</td>\n",
              "      <td>Check-Out</td>\n",
              "      <td>2015-11-23</td>\n",
              "    </tr>\n",
              "    <tr>\n",
              "      <th>3684</th>\n",
              "      <td>Resort Hotel</td>\n",
              "      <td>0</td>\n",
              "      <td>165</td>\n",
              "      <td>2015</td>\n",
              "      <td>December</td>\n",
              "      <td>53</td>\n",
              "      <td>30</td>\n",
              "      <td>1</td>\n",
              "      <td>4</td>\n",
              "      <td>0</td>\n",
              "      <td>...</td>\n",
              "      <td>No Deposit</td>\n",
              "      <td>308.0</td>\n",
              "      <td>0.0</td>\n",
              "      <td>122</td>\n",
              "      <td>Transient-Party</td>\n",
              "      <td>0.00</td>\n",
              "      <td>0</td>\n",
              "      <td>0</td>\n",
              "      <td>Check-Out</td>\n",
              "      <td>2016-01-04</td>\n",
              "    </tr>\n",
              "    <tr>\n",
              "      <th>3708</th>\n",
              "      <td>Resort Hotel</td>\n",
              "      <td>0</td>\n",
              "      <td>165</td>\n",
              "      <td>2015</td>\n",
              "      <td>December</td>\n",
              "      <td>53</td>\n",
              "      <td>30</td>\n",
              "      <td>2</td>\n",
              "      <td>4</td>\n",
              "      <td>0</td>\n",
              "      <td>...</td>\n",
              "      <td>No Deposit</td>\n",
              "      <td>308.0</td>\n",
              "      <td>0.0</td>\n",
              "      <td>122</td>\n",
              "      <td>Transient-Party</td>\n",
              "      <td>0.00</td>\n",
              "      <td>0</td>\n",
              "      <td>0</td>\n",
              "      <td>Check-Out</td>\n",
              "      <td>2016-01-05</td>\n",
              "    </tr>\n",
              "    <tr>\n",
              "      <th>...</th>\n",
              "      <td>...</td>\n",
              "      <td>...</td>\n",
              "      <td>...</td>\n",
              "      <td>...</td>\n",
              "      <td>...</td>\n",
              "      <td>...</td>\n",
              "      <td>...</td>\n",
              "      <td>...</td>\n",
              "      <td>...</td>\n",
              "      <td>...</td>\n",
              "      <td>...</td>\n",
              "      <td>...</td>\n",
              "      <td>...</td>\n",
              "      <td>...</td>\n",
              "      <td>...</td>\n",
              "      <td>...</td>\n",
              "      <td>...</td>\n",
              "      <td>...</td>\n",
              "      <td>...</td>\n",
              "      <td>...</td>\n",
              "      <td>...</td>\n",
              "    </tr>\n",
              "    <tr>\n",
              "      <th>115029</th>\n",
              "      <td>City Hotel</td>\n",
              "      <td>0</td>\n",
              "      <td>107</td>\n",
              "      <td>2017</td>\n",
              "      <td>June</td>\n",
              "      <td>26</td>\n",
              "      <td>27</td>\n",
              "      <td>0</td>\n",
              "      <td>3</td>\n",
              "      <td>0</td>\n",
              "      <td>...</td>\n",
              "      <td>No Deposit</td>\n",
              "      <td>7.0</td>\n",
              "      <td>0.0</td>\n",
              "      <td>0</td>\n",
              "      <td>Transient</td>\n",
              "      <td>100.80</td>\n",
              "      <td>0</td>\n",
              "      <td>0</td>\n",
              "      <td>Check-Out</td>\n",
              "      <td>2017-06-30</td>\n",
              "    </tr>\n",
              "    <tr>\n",
              "      <th>115091</th>\n",
              "      <td>City Hotel</td>\n",
              "      <td>0</td>\n",
              "      <td>1</td>\n",
              "      <td>2017</td>\n",
              "      <td>June</td>\n",
              "      <td>26</td>\n",
              "      <td>30</td>\n",
              "      <td>0</td>\n",
              "      <td>1</td>\n",
              "      <td>0</td>\n",
              "      <td>...</td>\n",
              "      <td>No Deposit</td>\n",
              "      <td>0.0</td>\n",
              "      <td>0.0</td>\n",
              "      <td>0</td>\n",
              "      <td>Transient</td>\n",
              "      <td>0.00</td>\n",
              "      <td>1</td>\n",
              "      <td>1</td>\n",
              "      <td>Check-Out</td>\n",
              "      <td>2017-07-01</td>\n",
              "    </tr>\n",
              "    <tr>\n",
              "      <th>116251</th>\n",
              "      <td>City Hotel</td>\n",
              "      <td>0</td>\n",
              "      <td>44</td>\n",
              "      <td>2017</td>\n",
              "      <td>July</td>\n",
              "      <td>28</td>\n",
              "      <td>15</td>\n",
              "      <td>1</td>\n",
              "      <td>1</td>\n",
              "      <td>0</td>\n",
              "      <td>...</td>\n",
              "      <td>No Deposit</td>\n",
              "      <td>425.0</td>\n",
              "      <td>0.0</td>\n",
              "      <td>0</td>\n",
              "      <td>Transient</td>\n",
              "      <td>73.80</td>\n",
              "      <td>0</td>\n",
              "      <td>0</td>\n",
              "      <td>Check-Out</td>\n",
              "      <td>2017-07-17</td>\n",
              "    </tr>\n",
              "    <tr>\n",
              "      <th>116534</th>\n",
              "      <td>City Hotel</td>\n",
              "      <td>0</td>\n",
              "      <td>2</td>\n",
              "      <td>2017</td>\n",
              "      <td>July</td>\n",
              "      <td>28</td>\n",
              "      <td>15</td>\n",
              "      <td>2</td>\n",
              "      <td>5</td>\n",
              "      <td>0</td>\n",
              "      <td>...</td>\n",
              "      <td>No Deposit</td>\n",
              "      <td>9.0</td>\n",
              "      <td>0.0</td>\n",
              "      <td>0</td>\n",
              "      <td>Transient-Party</td>\n",
              "      <td>22.86</td>\n",
              "      <td>0</td>\n",
              "      <td>1</td>\n",
              "      <td>Check-Out</td>\n",
              "      <td>2017-07-22</td>\n",
              "    </tr>\n",
              "    <tr>\n",
              "      <th>117087</th>\n",
              "      <td>City Hotel</td>\n",
              "      <td>0</td>\n",
              "      <td>170</td>\n",
              "      <td>2017</td>\n",
              "      <td>July</td>\n",
              "      <td>30</td>\n",
              "      <td>27</td>\n",
              "      <td>0</td>\n",
              "      <td>2</td>\n",
              "      <td>0</td>\n",
              "      <td>...</td>\n",
              "      <td>No Deposit</td>\n",
              "      <td>52.0</td>\n",
              "      <td>0.0</td>\n",
              "      <td>0</td>\n",
              "      <td>Transient</td>\n",
              "      <td>0.00</td>\n",
              "      <td>0</td>\n",
              "      <td>0</td>\n",
              "      <td>Check-Out</td>\n",
              "      <td>2017-07-29</td>\n",
              "    </tr>\n",
              "  </tbody>\n",
              "</table>\n",
              "<p>180 rows × 32 columns</p>\n",
              "</div>\n",
              "      <button class=\"colab-df-convert\" onclick=\"convertToInteractive('df-897d71d3-f545-4dfd-b2cc-b11cff9824f2')\"\n",
              "              title=\"Convert this dataframe to an interactive table.\"\n",
              "              style=\"display:none;\">\n",
              "        \n",
              "  <svg xmlns=\"http://www.w3.org/2000/svg\" height=\"24px\"viewBox=\"0 0 24 24\"\n",
              "       width=\"24px\">\n",
              "    <path d=\"M0 0h24v24H0V0z\" fill=\"none\"/>\n",
              "    <path d=\"M18.56 5.44l.94 2.06.94-2.06 2.06-.94-2.06-.94-.94-2.06-.94 2.06-2.06.94zm-11 1L8.5 8.5l.94-2.06 2.06-.94-2.06-.94L8.5 2.5l-.94 2.06-2.06.94zm10 10l.94 2.06.94-2.06 2.06-.94-2.06-.94-.94-2.06-.94 2.06-2.06.94z\"/><path d=\"M17.41 7.96l-1.37-1.37c-.4-.4-.92-.59-1.43-.59-.52 0-1.04.2-1.43.59L10.3 9.45l-7.72 7.72c-.78.78-.78 2.05 0 2.83L4 21.41c.39.39.9.59 1.41.59.51 0 1.02-.2 1.41-.59l7.78-7.78 2.81-2.81c.8-.78.8-2.07 0-2.86zM5.41 20L4 18.59l7.72-7.72 1.47 1.35L5.41 20z\"/>\n",
              "  </svg>\n",
              "      </button>\n",
              "      \n",
              "  <style>\n",
              "    .colab-df-container {\n",
              "      display:flex;\n",
              "      flex-wrap:wrap;\n",
              "      gap: 12px;\n",
              "    }\n",
              "\n",
              "    .colab-df-convert {\n",
              "      background-color: #E8F0FE;\n",
              "      border: none;\n",
              "      border-radius: 50%;\n",
              "      cursor: pointer;\n",
              "      display: none;\n",
              "      fill: #1967D2;\n",
              "      height: 32px;\n",
              "      padding: 0 0 0 0;\n",
              "      width: 32px;\n",
              "    }\n",
              "\n",
              "    .colab-df-convert:hover {\n",
              "      background-color: #E2EBFA;\n",
              "      box-shadow: 0px 1px 2px rgba(60, 64, 67, 0.3), 0px 1px 3px 1px rgba(60, 64, 67, 0.15);\n",
              "      fill: #174EA6;\n",
              "    }\n",
              "\n",
              "    [theme=dark] .colab-df-convert {\n",
              "      background-color: #3B4455;\n",
              "      fill: #D2E3FC;\n",
              "    }\n",
              "\n",
              "    [theme=dark] .colab-df-convert:hover {\n",
              "      background-color: #434B5C;\n",
              "      box-shadow: 0px 1px 3px 1px rgba(0, 0, 0, 0.15);\n",
              "      filter: drop-shadow(0px 1px 2px rgba(0, 0, 0, 0.3));\n",
              "      fill: #FFFFFF;\n",
              "    }\n",
              "  </style>\n",
              "\n",
              "      <script>\n",
              "        const buttonEl =\n",
              "          document.querySelector('#df-897d71d3-f545-4dfd-b2cc-b11cff9824f2 button.colab-df-convert');\n",
              "        buttonEl.style.display =\n",
              "          google.colab.kernel.accessAllowed ? 'block' : 'none';\n",
              "\n",
              "        async function convertToInteractive(key) {\n",
              "          const element = document.querySelector('#df-897d71d3-f545-4dfd-b2cc-b11cff9824f2');\n",
              "          const dataTable =\n",
              "            await google.colab.kernel.invokeFunction('convertToInteractive',\n",
              "                                                     [key], {});\n",
              "          if (!dataTable) return;\n",
              "\n",
              "          const docLinkHtml = 'Like what you see? Visit the ' +\n",
              "            '<a target=\"_blank\" href=https://colab.research.google.com/notebooks/data_table.ipynb>data table notebook</a>'\n",
              "            + ' to learn more about interactive tables.';\n",
              "          element.innerHTML = '';\n",
              "          dataTable['output_type'] = 'display_data';\n",
              "          await google.colab.output.renderOutput(dataTable, element);\n",
              "          const docLink = document.createElement('div');\n",
              "          docLink.innerHTML = docLinkHtml;\n",
              "          element.appendChild(docLink);\n",
              "        }\n",
              "      </script>\n",
              "    </div>\n",
              "  </div>\n",
              "  "
            ]
          },
          "metadata": {},
          "execution_count": 23
        }
      ]
    },
    {
      "cell_type": "markdown",
      "source": [
        "**There are 180 rows which having wrong values so we will remove this values**"
      ],
      "metadata": {
        "id": "4MffQL6xcnWj"
      }
    },
    {
      "cell_type": "markdown",
      "source": [
        "Here we use compliment operator tilde(~) , It takes one bit operand and returns its complement. If the operand is 1, it returns 0, and if it is 0, it returns 1\n",
        "\n",
        "or \n",
        "Here we can also use dropna() method to drop that rows."
      ],
      "metadata": {
        "id": "dq-3aL9TgRUM"
      }
    },
    {
      "cell_type": "code",
      "source": [
        "#storing data to variable where adults,children and babies are having not 0 \n",
        "correct_hb = hb[~checked_values]\n",
        "correct_hb"
      ],
      "metadata": {
        "colab": {
          "base_uri": "https://localhost:8080/",
          "height": 661
        },
        "id": "IVwyhCdWf2JY",
        "outputId": "dc4c10ab-bb78-483a-9808-465f0778e0f7"
      },
      "execution_count": null,
      "outputs": [
        {
          "output_type": "execute_result",
          "data": {
            "text/plain": [
              "               hotel  is_canceled  lead_time  arrival_date_year  \\\n",
              "0       Resort Hotel            0        342               2015   \n",
              "1       Resort Hotel            0        737               2015   \n",
              "2       Resort Hotel            0          7               2015   \n",
              "3       Resort Hotel            0         13               2015   \n",
              "4       Resort Hotel            0         14               2015   \n",
              "...              ...          ...        ...                ...   \n",
              "119385    City Hotel            0         23               2017   \n",
              "119386    City Hotel            0        102               2017   \n",
              "119387    City Hotel            0         34               2017   \n",
              "119388    City Hotel            0        109               2017   \n",
              "119389    City Hotel            0        205               2017   \n",
              "\n",
              "       arrival_date_month  arrival_date_week_number  \\\n",
              "0                    July                        27   \n",
              "1                    July                        27   \n",
              "2                    July                        27   \n",
              "3                    July                        27   \n",
              "4                    July                        27   \n",
              "...                   ...                       ...   \n",
              "119385             August                        35   \n",
              "119386             August                        35   \n",
              "119387             August                        35   \n",
              "119388             August                        35   \n",
              "119389             August                        35   \n",
              "\n",
              "        arrival_date_day_of_month  stays_in_weekend_nights  \\\n",
              "0                               1                        0   \n",
              "1                               1                        0   \n",
              "2                               1                        0   \n",
              "3                               1                        0   \n",
              "4                               1                        0   \n",
              "...                           ...                      ...   \n",
              "119385                         30                        2   \n",
              "119386                         31                        2   \n",
              "119387                         31                        2   \n",
              "119388                         31                        2   \n",
              "119389                         29                        2   \n",
              "\n",
              "        stays_in_week_nights  adults  ...  deposit_type  agent company  \\\n",
              "0                          0       2  ...    No Deposit    0.0     0.0   \n",
              "1                          0       2  ...    No Deposit    0.0     0.0   \n",
              "2                          1       1  ...    No Deposit    0.0     0.0   \n",
              "3                          1       1  ...    No Deposit  304.0     0.0   \n",
              "4                          2       2  ...    No Deposit  240.0     0.0   \n",
              "...                      ...     ...  ...           ...    ...     ...   \n",
              "119385                     5       2  ...    No Deposit  394.0     0.0   \n",
              "119386                     5       3  ...    No Deposit    9.0     0.0   \n",
              "119387                     5       2  ...    No Deposit    9.0     0.0   \n",
              "119388                     5       2  ...    No Deposit   89.0     0.0   \n",
              "119389                     7       2  ...    No Deposit    9.0     0.0   \n",
              "\n",
              "       days_in_waiting_list customer_type     adr  \\\n",
              "0                         0     Transient    0.00   \n",
              "1                         0     Transient    0.00   \n",
              "2                         0     Transient   75.00   \n",
              "3                         0     Transient   75.00   \n",
              "4                         0     Transient   98.00   \n",
              "...                     ...           ...     ...   \n",
              "119385                    0     Transient   96.14   \n",
              "119386                    0     Transient  225.43   \n",
              "119387                    0     Transient  157.71   \n",
              "119388                    0     Transient  104.40   \n",
              "119389                    0     Transient  151.20   \n",
              "\n",
              "        required_car_parking_spaces  total_of_special_requests  \\\n",
              "0                                 0                          0   \n",
              "1                                 0                          0   \n",
              "2                                 0                          0   \n",
              "3                                 0                          0   \n",
              "4                                 0                          1   \n",
              "...                             ...                        ...   \n",
              "119385                            0                          0   \n",
              "119386                            0                          2   \n",
              "119387                            0                          4   \n",
              "119388                            0                          0   \n",
              "119389                            0                          2   \n",
              "\n",
              "        reservation_status reservation_status_date  \n",
              "0                Check-Out              2015-07-01  \n",
              "1                Check-Out              2015-07-01  \n",
              "2                Check-Out              2015-07-02  \n",
              "3                Check-Out              2015-07-02  \n",
              "4                Check-Out              2015-07-03  \n",
              "...                    ...                     ...  \n",
              "119385           Check-Out              2017-09-06  \n",
              "119386           Check-Out              2017-09-07  \n",
              "119387           Check-Out              2017-09-07  \n",
              "119388           Check-Out              2017-09-07  \n",
              "119389           Check-Out              2017-09-07  \n",
              "\n",
              "[119210 rows x 32 columns]"
            ],
            "text/html": [
              "\n",
              "  <div id=\"df-493a2938-ccef-411f-ae2b-cab2fe8fe39a\">\n",
              "    <div class=\"colab-df-container\">\n",
              "      <div>\n",
              "<style scoped>\n",
              "    .dataframe tbody tr th:only-of-type {\n",
              "        vertical-align: middle;\n",
              "    }\n",
              "\n",
              "    .dataframe tbody tr th {\n",
              "        vertical-align: top;\n",
              "    }\n",
              "\n",
              "    .dataframe thead th {\n",
              "        text-align: right;\n",
              "    }\n",
              "</style>\n",
              "<table border=\"1\" class=\"dataframe\">\n",
              "  <thead>\n",
              "    <tr style=\"text-align: right;\">\n",
              "      <th></th>\n",
              "      <th>hotel</th>\n",
              "      <th>is_canceled</th>\n",
              "      <th>lead_time</th>\n",
              "      <th>arrival_date_year</th>\n",
              "      <th>arrival_date_month</th>\n",
              "      <th>arrival_date_week_number</th>\n",
              "      <th>arrival_date_day_of_month</th>\n",
              "      <th>stays_in_weekend_nights</th>\n",
              "      <th>stays_in_week_nights</th>\n",
              "      <th>adults</th>\n",
              "      <th>...</th>\n",
              "      <th>deposit_type</th>\n",
              "      <th>agent</th>\n",
              "      <th>company</th>\n",
              "      <th>days_in_waiting_list</th>\n",
              "      <th>customer_type</th>\n",
              "      <th>adr</th>\n",
              "      <th>required_car_parking_spaces</th>\n",
              "      <th>total_of_special_requests</th>\n",
              "      <th>reservation_status</th>\n",
              "      <th>reservation_status_date</th>\n",
              "    </tr>\n",
              "  </thead>\n",
              "  <tbody>\n",
              "    <tr>\n",
              "      <th>0</th>\n",
              "      <td>Resort Hotel</td>\n",
              "      <td>0</td>\n",
              "      <td>342</td>\n",
              "      <td>2015</td>\n",
              "      <td>July</td>\n",
              "      <td>27</td>\n",
              "      <td>1</td>\n",
              "      <td>0</td>\n",
              "      <td>0</td>\n",
              "      <td>2</td>\n",
              "      <td>...</td>\n",
              "      <td>No Deposit</td>\n",
              "      <td>0.0</td>\n",
              "      <td>0.0</td>\n",
              "      <td>0</td>\n",
              "      <td>Transient</td>\n",
              "      <td>0.00</td>\n",
              "      <td>0</td>\n",
              "      <td>0</td>\n",
              "      <td>Check-Out</td>\n",
              "      <td>2015-07-01</td>\n",
              "    </tr>\n",
              "    <tr>\n",
              "      <th>1</th>\n",
              "      <td>Resort Hotel</td>\n",
              "      <td>0</td>\n",
              "      <td>737</td>\n",
              "      <td>2015</td>\n",
              "      <td>July</td>\n",
              "      <td>27</td>\n",
              "      <td>1</td>\n",
              "      <td>0</td>\n",
              "      <td>0</td>\n",
              "      <td>2</td>\n",
              "      <td>...</td>\n",
              "      <td>No Deposit</td>\n",
              "      <td>0.0</td>\n",
              "      <td>0.0</td>\n",
              "      <td>0</td>\n",
              "      <td>Transient</td>\n",
              "      <td>0.00</td>\n",
              "      <td>0</td>\n",
              "      <td>0</td>\n",
              "      <td>Check-Out</td>\n",
              "      <td>2015-07-01</td>\n",
              "    </tr>\n",
              "    <tr>\n",
              "      <th>2</th>\n",
              "      <td>Resort Hotel</td>\n",
              "      <td>0</td>\n",
              "      <td>7</td>\n",
              "      <td>2015</td>\n",
              "      <td>July</td>\n",
              "      <td>27</td>\n",
              "      <td>1</td>\n",
              "      <td>0</td>\n",
              "      <td>1</td>\n",
              "      <td>1</td>\n",
              "      <td>...</td>\n",
              "      <td>No Deposit</td>\n",
              "      <td>0.0</td>\n",
              "      <td>0.0</td>\n",
              "      <td>0</td>\n",
              "      <td>Transient</td>\n",
              "      <td>75.00</td>\n",
              "      <td>0</td>\n",
              "      <td>0</td>\n",
              "      <td>Check-Out</td>\n",
              "      <td>2015-07-02</td>\n",
              "    </tr>\n",
              "    <tr>\n",
              "      <th>3</th>\n",
              "      <td>Resort Hotel</td>\n",
              "      <td>0</td>\n",
              "      <td>13</td>\n",
              "      <td>2015</td>\n",
              "      <td>July</td>\n",
              "      <td>27</td>\n",
              "      <td>1</td>\n",
              "      <td>0</td>\n",
              "      <td>1</td>\n",
              "      <td>1</td>\n",
              "      <td>...</td>\n",
              "      <td>No Deposit</td>\n",
              "      <td>304.0</td>\n",
              "      <td>0.0</td>\n",
              "      <td>0</td>\n",
              "      <td>Transient</td>\n",
              "      <td>75.00</td>\n",
              "      <td>0</td>\n",
              "      <td>0</td>\n",
              "      <td>Check-Out</td>\n",
              "      <td>2015-07-02</td>\n",
              "    </tr>\n",
              "    <tr>\n",
              "      <th>4</th>\n",
              "      <td>Resort Hotel</td>\n",
              "      <td>0</td>\n",
              "      <td>14</td>\n",
              "      <td>2015</td>\n",
              "      <td>July</td>\n",
              "      <td>27</td>\n",
              "      <td>1</td>\n",
              "      <td>0</td>\n",
              "      <td>2</td>\n",
              "      <td>2</td>\n",
              "      <td>...</td>\n",
              "      <td>No Deposit</td>\n",
              "      <td>240.0</td>\n",
              "      <td>0.0</td>\n",
              "      <td>0</td>\n",
              "      <td>Transient</td>\n",
              "      <td>98.00</td>\n",
              "      <td>0</td>\n",
              "      <td>1</td>\n",
              "      <td>Check-Out</td>\n",
              "      <td>2015-07-03</td>\n",
              "    </tr>\n",
              "    <tr>\n",
              "      <th>...</th>\n",
              "      <td>...</td>\n",
              "      <td>...</td>\n",
              "      <td>...</td>\n",
              "      <td>...</td>\n",
              "      <td>...</td>\n",
              "      <td>...</td>\n",
              "      <td>...</td>\n",
              "      <td>...</td>\n",
              "      <td>...</td>\n",
              "      <td>...</td>\n",
              "      <td>...</td>\n",
              "      <td>...</td>\n",
              "      <td>...</td>\n",
              "      <td>...</td>\n",
              "      <td>...</td>\n",
              "      <td>...</td>\n",
              "      <td>...</td>\n",
              "      <td>...</td>\n",
              "      <td>...</td>\n",
              "      <td>...</td>\n",
              "      <td>...</td>\n",
              "    </tr>\n",
              "    <tr>\n",
              "      <th>119385</th>\n",
              "      <td>City Hotel</td>\n",
              "      <td>0</td>\n",
              "      <td>23</td>\n",
              "      <td>2017</td>\n",
              "      <td>August</td>\n",
              "      <td>35</td>\n",
              "      <td>30</td>\n",
              "      <td>2</td>\n",
              "      <td>5</td>\n",
              "      <td>2</td>\n",
              "      <td>...</td>\n",
              "      <td>No Deposit</td>\n",
              "      <td>394.0</td>\n",
              "      <td>0.0</td>\n",
              "      <td>0</td>\n",
              "      <td>Transient</td>\n",
              "      <td>96.14</td>\n",
              "      <td>0</td>\n",
              "      <td>0</td>\n",
              "      <td>Check-Out</td>\n",
              "      <td>2017-09-06</td>\n",
              "    </tr>\n",
              "    <tr>\n",
              "      <th>119386</th>\n",
              "      <td>City Hotel</td>\n",
              "      <td>0</td>\n",
              "      <td>102</td>\n",
              "      <td>2017</td>\n",
              "      <td>August</td>\n",
              "      <td>35</td>\n",
              "      <td>31</td>\n",
              "      <td>2</td>\n",
              "      <td>5</td>\n",
              "      <td>3</td>\n",
              "      <td>...</td>\n",
              "      <td>No Deposit</td>\n",
              "      <td>9.0</td>\n",
              "      <td>0.0</td>\n",
              "      <td>0</td>\n",
              "      <td>Transient</td>\n",
              "      <td>225.43</td>\n",
              "      <td>0</td>\n",
              "      <td>2</td>\n",
              "      <td>Check-Out</td>\n",
              "      <td>2017-09-07</td>\n",
              "    </tr>\n",
              "    <tr>\n",
              "      <th>119387</th>\n",
              "      <td>City Hotel</td>\n",
              "      <td>0</td>\n",
              "      <td>34</td>\n",
              "      <td>2017</td>\n",
              "      <td>August</td>\n",
              "      <td>35</td>\n",
              "      <td>31</td>\n",
              "      <td>2</td>\n",
              "      <td>5</td>\n",
              "      <td>2</td>\n",
              "      <td>...</td>\n",
              "      <td>No Deposit</td>\n",
              "      <td>9.0</td>\n",
              "      <td>0.0</td>\n",
              "      <td>0</td>\n",
              "      <td>Transient</td>\n",
              "      <td>157.71</td>\n",
              "      <td>0</td>\n",
              "      <td>4</td>\n",
              "      <td>Check-Out</td>\n",
              "      <td>2017-09-07</td>\n",
              "    </tr>\n",
              "    <tr>\n",
              "      <th>119388</th>\n",
              "      <td>City Hotel</td>\n",
              "      <td>0</td>\n",
              "      <td>109</td>\n",
              "      <td>2017</td>\n",
              "      <td>August</td>\n",
              "      <td>35</td>\n",
              "      <td>31</td>\n",
              "      <td>2</td>\n",
              "      <td>5</td>\n",
              "      <td>2</td>\n",
              "      <td>...</td>\n",
              "      <td>No Deposit</td>\n",
              "      <td>89.0</td>\n",
              "      <td>0.0</td>\n",
              "      <td>0</td>\n",
              "      <td>Transient</td>\n",
              "      <td>104.40</td>\n",
              "      <td>0</td>\n",
              "      <td>0</td>\n",
              "      <td>Check-Out</td>\n",
              "      <td>2017-09-07</td>\n",
              "    </tr>\n",
              "    <tr>\n",
              "      <th>119389</th>\n",
              "      <td>City Hotel</td>\n",
              "      <td>0</td>\n",
              "      <td>205</td>\n",
              "      <td>2017</td>\n",
              "      <td>August</td>\n",
              "      <td>35</td>\n",
              "      <td>29</td>\n",
              "      <td>2</td>\n",
              "      <td>7</td>\n",
              "      <td>2</td>\n",
              "      <td>...</td>\n",
              "      <td>No Deposit</td>\n",
              "      <td>9.0</td>\n",
              "      <td>0.0</td>\n",
              "      <td>0</td>\n",
              "      <td>Transient</td>\n",
              "      <td>151.20</td>\n",
              "      <td>0</td>\n",
              "      <td>2</td>\n",
              "      <td>Check-Out</td>\n",
              "      <td>2017-09-07</td>\n",
              "    </tr>\n",
              "  </tbody>\n",
              "</table>\n",
              "<p>119210 rows × 32 columns</p>\n",
              "</div>\n",
              "      <button class=\"colab-df-convert\" onclick=\"convertToInteractive('df-493a2938-ccef-411f-ae2b-cab2fe8fe39a')\"\n",
              "              title=\"Convert this dataframe to an interactive table.\"\n",
              "              style=\"display:none;\">\n",
              "        \n",
              "  <svg xmlns=\"http://www.w3.org/2000/svg\" height=\"24px\"viewBox=\"0 0 24 24\"\n",
              "       width=\"24px\">\n",
              "    <path d=\"M0 0h24v24H0V0z\" fill=\"none\"/>\n",
              "    <path d=\"M18.56 5.44l.94 2.06.94-2.06 2.06-.94-2.06-.94-.94-2.06-.94 2.06-2.06.94zm-11 1L8.5 8.5l.94-2.06 2.06-.94-2.06-.94L8.5 2.5l-.94 2.06-2.06.94zm10 10l.94 2.06.94-2.06 2.06-.94-2.06-.94-.94-2.06-.94 2.06-2.06.94z\"/><path d=\"M17.41 7.96l-1.37-1.37c-.4-.4-.92-.59-1.43-.59-.52 0-1.04.2-1.43.59L10.3 9.45l-7.72 7.72c-.78.78-.78 2.05 0 2.83L4 21.41c.39.39.9.59 1.41.59.51 0 1.02-.2 1.41-.59l7.78-7.78 2.81-2.81c.8-.78.8-2.07 0-2.86zM5.41 20L4 18.59l7.72-7.72 1.47 1.35L5.41 20z\"/>\n",
              "  </svg>\n",
              "      </button>\n",
              "      \n",
              "  <style>\n",
              "    .colab-df-container {\n",
              "      display:flex;\n",
              "      flex-wrap:wrap;\n",
              "      gap: 12px;\n",
              "    }\n",
              "\n",
              "    .colab-df-convert {\n",
              "      background-color: #E8F0FE;\n",
              "      border: none;\n",
              "      border-radius: 50%;\n",
              "      cursor: pointer;\n",
              "      display: none;\n",
              "      fill: #1967D2;\n",
              "      height: 32px;\n",
              "      padding: 0 0 0 0;\n",
              "      width: 32px;\n",
              "    }\n",
              "\n",
              "    .colab-df-convert:hover {\n",
              "      background-color: #E2EBFA;\n",
              "      box-shadow: 0px 1px 2px rgba(60, 64, 67, 0.3), 0px 1px 3px 1px rgba(60, 64, 67, 0.15);\n",
              "      fill: #174EA6;\n",
              "    }\n",
              "\n",
              "    [theme=dark] .colab-df-convert {\n",
              "      background-color: #3B4455;\n",
              "      fill: #D2E3FC;\n",
              "    }\n",
              "\n",
              "    [theme=dark] .colab-df-convert:hover {\n",
              "      background-color: #434B5C;\n",
              "      box-shadow: 0px 1px 3px 1px rgba(0, 0, 0, 0.15);\n",
              "      filter: drop-shadow(0px 1px 2px rgba(0, 0, 0, 0.3));\n",
              "      fill: #FFFFFF;\n",
              "    }\n",
              "  </style>\n",
              "\n",
              "      <script>\n",
              "        const buttonEl =\n",
              "          document.querySelector('#df-493a2938-ccef-411f-ae2b-cab2fe8fe39a button.colab-df-convert');\n",
              "        buttonEl.style.display =\n",
              "          google.colab.kernel.accessAllowed ? 'block' : 'none';\n",
              "\n",
              "        async function convertToInteractive(key) {\n",
              "          const element = document.querySelector('#df-493a2938-ccef-411f-ae2b-cab2fe8fe39a');\n",
              "          const dataTable =\n",
              "            await google.colab.kernel.invokeFunction('convertToInteractive',\n",
              "                                                     [key], {});\n",
              "          if (!dataTable) return;\n",
              "\n",
              "          const docLinkHtml = 'Like what you see? Visit the ' +\n",
              "            '<a target=\"_blank\" href=https://colab.research.google.com/notebooks/data_table.ipynb>data table notebook</a>'\n",
              "            + ' to learn more about interactive tables.';\n",
              "          element.innerHTML = '';\n",
              "          dataTable['output_type'] = 'display_data';\n",
              "          await google.colab.output.renderOutput(dataTable, element);\n",
              "          const docLink = document.createElement('div');\n",
              "          docLink.innerHTML = docLinkHtml;\n",
              "          element.appendChild(docLink);\n",
              "        }\n",
              "      </script>\n",
              "    </div>\n",
              "  </div>\n",
              "  "
            ]
          },
          "metadata": {},
          "execution_count": 24
        }
      ]
    },
    {
      "cell_type": "markdown",
      "source": [
        "# **Now we will do Data Analysis and Data Visualisation**"
      ],
      "metadata": {
        "id": "8SukGgrQcHnQ"
      }
    },
    {
      "cell_type": "markdown",
      "source": [
        "**Now there is a situation, someone new in hotel market he/she want some informational data analysis to get enter in this market,so he/she raises some questions regarding hotel market in which i have to analysis the data and answer them.**\n",
        "\n",
        "\n",
        "\n",
        "**Questions are given below**"
      ],
      "metadata": {
        "id": "gNhuT0txheST"
      }
    },
    {
      "cell_type": "markdown",
      "source": [
        "**1. What types of hotel in market and how many numbers of hotels in each type?**\n",
        "\n",
        "For this comparision we will use pie chart ploting."
      ],
      "metadata": {
        "id": "n9T3yawBjnHe"
      }
    },
    {
      "cell_type": "code",
      "source": [
        "hotel_count = correct_hb['hotel'].value_counts()\n",
        "hotel_count\n"
      ],
      "metadata": {
        "id": "VGk_wXuMgOWh",
        "colab": {
          "base_uri": "https://localhost:8080/"
        },
        "outputId": "f8f9b7d4-e13e-43c3-adbb-0832684f0b12"
      },
      "execution_count": null,
      "outputs": [
        {
          "output_type": "execute_result",
          "data": {
            "text/plain": [
              "City Hotel      79163\n",
              "Resort Hotel    40047\n",
              "Name: hotel, dtype: int64"
            ]
          },
          "metadata": {},
          "execution_count": 25
        }
      ]
    },
    {
      "cell_type": "code",
      "source": [
        " # Enlarging the pie chart\n",
        "plt.rcParams['figure.figsize'] = 8,8\n",
        "\n",
        "# Indexing labels. tolist() will convert the index to list for easy manipulation\n",
        "labels = correct_hb['hotel'].value_counts().index.tolist()\n",
        "\n",
        "sizes = correct_hb['hotel'].value_counts().tolist()\n",
        "\n",
        "# As the name suggest, explode will determine how much each section is separated from each other \n",
        "explode = (0, 0.1)\n",
        "\n",
        "# Determine colour of pie chart\n",
        "colors = ['gold', 'aqua']\n",
        "\n",
        "plt.pie(sizes, explode=explode, labels=labels, colors=colors, autopct='%1.1f%%',startangle=90, textprops={'fontsize': 14})\n",
        "plt.show()"
      ],
      "metadata": {
        "id": "b0VrAftCf97G",
        "colab": {
          "base_uri": "https://localhost:8080/",
          "height": 466
        },
        "outputId": "afb46fa8-0d5b-4b86-df1c-ea8bb1b3b968"
      },
      "execution_count": null,
      "outputs": [
        {
          "output_type": "display_data",
          "data": {
            "text/plain": [
              "<Figure size 576x576 with 1 Axes>"
            ],
            "image/png": "[encoded data removed]"
          },
          "metadata": {}
        }
      ]
    },
    {
      "cell_type": "markdown",
      "source": [
        "###According to this analysis number of City hotels comparatively more than Resort hotels.\n",
        " \n",
        "###Resort Hotel tend to be on the expensive side and most people will just stick with city hotel."
      ],
      "metadata": {
        "id": "tIzoXzSJptdG"
      }
    },
    {
      "cell_type": "markdown",
      "source": [
        " **2. How Many Booking Were Cancelled for diffrent types of hotels ?**\n",
        "\n"
      ],
      "metadata": {
        "id": "EAXazum4tTYd"
      }
    },
    {
      "cell_type": "code",
      "source": [
        "#Total number of canceled hotel booking\n",
        "total_canceled_hotels_count = correct_hb.is_canceled.value_counts()\n",
        "print (total_canceled_hotels_count)\n",
        "\n",
        "#Total number of canceled City hotel booking\n",
        "canceled_city_hotels_count = correct_hb[correct_hb.hotel == 'City Hotel'].is_canceled.value_counts()\n",
        "print (canceled_city_hotels_count)\n",
        "\n",
        "#Total number of canceled Resort hotel booking\n",
        "canceled_resort_hotels_count = correct_hb[correct_hb.hotel == 'Resort Hotel'].is_canceled.value_counts()\n",
        "print (canceled_resort_hotels_count)"
      ],
      "metadata": {
        "colab": {
          "base_uri": "https://localhost:8080/"
        },
        "id": "ujyfelZZ2WgL",
        "outputId": "01b2c9b2-dabe-448c-af4a-251c03625fe4"
      },
      "execution_count": null,
      "outputs": [
        {
          "output_type": "stream",
          "name": "stdout",
          "text": [
            "0    75011\n",
            "1    44199\n",
            "Name: is_canceled, dtype: int64\n",
            "0    46084\n",
            "1    33079\n",
            "Name: is_canceled, dtype: int64\n",
            "0    28927\n",
            "1    11120\n",
            "Name: is_canceled, dtype: int64\n"
          ]
        }
      ]
    },
    {
      "cell_type": "code",
      "source": [
        "print('City Hotel:')\n",
        "print('===========')\n",
        "total_city_hotels_booking = hotel_count['City Hotel'] \n",
        "print('Booking:', total_city_hotels_booking)\n",
        "\n",
        "# Value indicating if the booking was canceled (1) or not canceled (0)\n",
        "\n",
        "canceled_city_hotels_booking = correct_hb[correct_hb.hotel == 'City Hotel'].is_canceled.sum()\n",
        "print('Canceled:',canceled_city_hotels_booking)\n",
        "\n",
        "not_canceled_city_hotels_booking = total_city_hotels_booking - canceled_city_hotels_booking\n",
        "print('Not canceled:', not_canceled_city_hotels_booking)\n",
        "\n",
        "print('')\n",
        "print('Resort Hotel')\n",
        "print('============')\n",
        "total_resort_hotels_booking = hotel_count['Resort Hotel'] \n",
        "print('Booking:', total_resort_hotels_booking)\n",
        "\n",
        "# Value indicating if the booking was canceled (1) or not canceled(0)\n",
        "\n",
        "canceled_resort_hotels_booking = correct_hb[correct_hb.hotel == 'Resort Hotel'].is_canceled.sum()\n",
        "print('Canceled:',canceled_resort_hotels_booking)\n",
        "not_canceled_resort_hotels_booking = total_resort_hotels_booking - canceled_resort_hotels_booking\n",
        "print('Not canceled:', not_canceled_resort_hotels_booking)"
      ],
      "metadata": {
        "id": "jU-7qDIe3RHz",
        "colab": {
          "base_uri": "https://localhost:8080/"
        },
        "outputId": "8d659f23-d029-4278-c74c-6975a073da50"
      },
      "execution_count": null,
      "outputs": [
        {
          "output_type": "stream",
          "name": "stdout",
          "text": [
            "City Hotel:\n",
            "===========\n",
            "Booking: 79163\n",
            "Canceled: 33079\n",
            "Not canceled: 46084\n",
            "\n",
            "Resort Hotel\n",
            "============\n",
            "Booking: 40047\n",
            "Canceled: 11120\n",
            "Not canceled: 28927\n"
          ]
        }
      ]
    },
    {
      "cell_type": "code",
      "source": [
        "## Draw the graph\n",
        "xs = ['City hotel canceled', 'City hotel not canceled', 'Resort hotel canceled', 'Resort hotel not canceled'] \n",
        "ys = [canceled_city_hotels_booking, not_canceled_city_hotels_booking, canceled_resort_hotels_booking, not_canceled_resort_hotels_booking] \n",
        "\n",
        "angle = 90\n",
        "plt.bar(xs, ys,color='red')\n",
        "plt.xticks(rotation=angle)\n",
        "\n",
        "plt.title('Cancelation of each type of hotels',fontsize=20)\n",
        "plt.ylabel('Number of canceleod hotel booking',fontsize=15)\n",
        "plt.xlabel('Types of hotels',fontsize=15)\n",
        "\n",
        "# Set the display figure size using rcParams method \n",
        "plt.rcParams['figure.figsize'] = (10,5)"
      ],
      "metadata": {
        "id": "q6MR_Ni-f9wR",
        "colab": {
          "base_uri": "https://localhost:8080/",
          "height": 640
        },
        "outputId": "d7a423be-6cfb-4d1f-ea18-d5964d612754"
      },
      "execution_count": null,
      "outputs": [
        {
          "output_type": "display_data",
          "data": {
            "text/plain": [
              "<Figure size 576x576 with 1 Axes>"
            ],
            "image/png": "[encoded data removed]"
          },
          "metadata": {
            "needs_background": "light"
          }
        }
      ]
    },
    {
      "cell_type": "markdown",
      "source": [
        "###From above analysis we can say that city hotels bookings are more canceled than resort hotels."
      ],
      "metadata": {
        "id": "FvXqnYrV0_d4"
      }
    },
    {
      "cell_type": "code",
      "source": [
        "#Hotels booking which are not canceled\n",
        "hotels_not_canceled = correct_hb[correct_hb['is_canceled'] == 0]\n"
      ],
      "metadata": {
        "id": "AAZx5rQM3s5H"
      },
      "execution_count": null,
      "outputs": []
    },
    {
      "cell_type": "markdown",
      "source": [
        "**Year wise comparision of booking of hotels.**\n",
        "\n"
      ],
      "metadata": {
        "id": "WALIu6zf0J4H"
      }
    },
    {
      "cell_type": "code",
      "source": [
        "plt.subplots(figsize=(7,5))\n",
        "\n",
        "sns.countplot(correct_hb.arrival_date_year, hue=correct_hb['hotel'])"
      ],
      "metadata": {
        "colab": {
          "base_uri": "https://localhost:8080/",
          "height": 407
        },
        "id": "qQBt2kt7zl05",
        "outputId": "e766d450-b56a-4b0f-dd0b-76e2f89a25c9"
      },
      "execution_count": null,
      "outputs": [
        {
          "output_type": "stream",
          "name": "stderr",
          "text": [
            "/usr/local/lib/python3.7/dist-packages/seaborn/_decorators.py:43: FutureWarning: Pass the following variable as a keyword arg: x. From version 0.12, the only valid positional argument will be `data`, and passing other arguments without an explicit keyword will result in an error or misinterpretation.\n",
            "  FutureWarning\n"
          ]
        },
        {
          "output_type": "execute_result",
          "data": {
            "text/plain": [
              "<matplotlib.axes._subplots.AxesSubplot at 0x7f5fea615a10>"
            ]
          },
          "metadata": {},
          "execution_count": 86
        },
        {
          "output_type": "display_data",
          "data": {
            "text/plain": [
              "<Figure size 504x360 with 1 Axes>"
            ],
            "image/png": "[encoded data removed]"
          },
          "metadata": {
            "needs_background": "light"
          }
        }
      ]
    },
    {
      "cell_type": "markdown",
      "source": [
        "###From above analysis we can say that in year 2016 most numbers of guests visited the both type of hotels."
      ],
      "metadata": {
        "id": "H6HaP_Zo1ZPB"
      }
    },
    {
      "cell_type": "markdown",
      "source": [
        "**3. Which is the most busy month for hotels ?**\n",
        "\n",
        "\n"
      ],
      "metadata": {
        "id": "Uq1loqiOocou"
      }
    },
    {
      "cell_type": "code",
      "source": [
        "months = ['January', 'February', 'March', 'April', 'May', 'June', 'July', 'August', 'September', 'October', 'November', 'December']\n",
        "\n",
        "sorted_months = hotels_not_canceled['arrival_date_month'].value_counts().reindex(months)\n",
        "\n",
        "x_label = sorted_months.index\n",
        "y_label = sorted_months/sorted_months.sum()*100\n",
        "\n",
        "## Draw the curve\n",
        "plt.plot(x_label , y_label,'go--',linewidth = 3 , markersize = 7)\n",
        "\n",
        "plt.title('Booking Trend (Monthly)',{'fontsize':15})\n",
        "plt.ylabel('Booking % per months',{'fontsize':15 , 'fontweight':12})\n",
        "plt.xlabel('Month',{'fontsize':15 , 'fontweight':12})\n",
        "\n",
        "plt.xticks(rotation=angle)\n",
        "angle=90\n",
        "plt.rcParams['figure.figsize'] = (10,8)"
      ],
      "metadata": {
        "colab": {
          "base_uri": "https://localhost:8080/",
          "height": 401
        },
        "id": "KMacdjBjtscK",
        "outputId": "05d67b62-8f61-4938-a3f0-54a8cd00ae0a"
      },
      "execution_count": null,
      "outputs": [
        {
          "output_type": "display_data",
          "data": {
            "text/plain": [
              "<Figure size 720x360 with 1 Axes>"
            ],
            "image/png": "[encoded data removed]"
          },
          "metadata": {
            "needs_background": "light"
          }
        }
      ]
    },
    {
      "cell_type": "markdown",
      "source": [
        "###From above graph we can say that **August** is the busiest month for hotels,which means august month has most number of bookings.\n"
      ],
      "metadata": {
        "id": "mMkRe4jA8x__"
      }
    },
    {
      "cell_type": "markdown",
      "source": [
        "**Now we will check comparatively for both types of hotels which month is busiest.**"
      ],
      "metadata": {
        "id": "AOH9Yugr9TGU"
      }
    },
    {
      "cell_type": "code",
      "source": [
        "#months = ['January', 'February', 'March', 'April', 'May', 'June', 'July', 'August', 'September', 'October', 'November', 'December']\n",
        "\n",
        "## Draw the graph\n",
        "plt.figure(figsize=(20,5))\n",
        "sns.countplot(data = correct_hb, x = 'arrival_date_month', hue = 'hotel', order = months).set_title('Graph showing number of arrival per month',fontsize=20)\n",
        "\n"
      ],
      "metadata": {
        "id": "91qXM-Rpf9nI",
        "colab": {
          "base_uri": "https://localhost:8080/",
          "height": 373
        },
        "outputId": "e1106ca1-52a4-4770-c0ec-3ee5d356e649"
      },
      "execution_count": null,
      "outputs": [
        {
          "output_type": "execute_result",
          "data": {
            "text/plain": [
              "Text(0.5, 1.0, 'Graph showing number of arrival per month')"
            ]
          },
          "metadata": {},
          "execution_count": 32
        },
        {
          "output_type": "display_data",
          "data": {
            "text/plain": [
              "<Figure size 1440x360 with 1 Axes>"
            ],
            "image/png": "[encoded data removed]"
          },
          "metadata": {
            "needs_background": "light"
          }
        }
      ]
    },
    {
      "cell_type": "markdown",
      "source": [
        "###From above we can say that **August** is the busiest month for both type of hotels."
      ],
      "metadata": {
        "id": "p1Utpl9p-YAy"
      }
    },
    {
      "cell_type": "markdown",
      "source": [
        "**4. Which was the most booked accommodation type (Single, Couple, Family)?**"
      ],
      "metadata": {
        "id": "WLS0NMDzuLn4"
      }
    },
    {
      "cell_type": "code",
      "source": [
        "# Select single, couple, multiple adults and family\n",
        "single   = hotels_not_canceled[(hotels_not_canceled.adults==1) & (hotels_not_canceled.children==0) & (hotels_not_canceled.babies==0)]\n",
        "couple   = hotels_not_canceled[(hotels_not_canceled.adults==2) & (hotels_not_canceled.children==0) & (hotels_not_canceled.babies==0)]\n",
        "family   = hotels_not_canceled[hotels_not_canceled.adults + hotels_not_canceled.children + hotels_not_canceled.babies > 2]\n",
        "\n",
        "\n",
        "# Make the list of Category names, and their total percentage\n",
        "x_label = ['Single', 'Couple (No Children)', 'Family / Friends']\n",
        "count = [single.shape[0],couple.shape[0], family.shape[0]]\n",
        "y_label = [x/hotels_not_canceled.shape[0]*100 for x in count]\n",
        "\n",
        "\n",
        "# Draw the curve\n",
        "plt.bar(x_label, y_label)\n",
        "plt.title('Accommodation type',{'fontsize':15})\n",
        "plt.ylabel('Booking % ',{'fontsize':15 , 'fontweight':12})"
      ],
      "metadata": {
        "id": "oujyTz-bf9dV",
        "colab": {
          "base_uri": "https://localhost:8080/",
          "height": 518
        },
        "outputId": "6be8214d-bdd8-4b31-8066-fa93776108f1"
      },
      "execution_count": null,
      "outputs": [
        {
          "output_type": "execute_result",
          "data": {
            "text/plain": [
              "Text(0, 0.5, 'Booking % ')"
            ]
          },
          "metadata": {},
          "execution_count": 33
        },
        {
          "output_type": "display_data",
          "data": {
            "text/plain": [
              "<Figure size 720x576 with 1 Axes>"
            ],
            "image/png": "[encoded data removed]"
          },
          "metadata": {
            "needs_background": "light"
          }
        }
      ]
    },
    {
      "cell_type": "markdown",
      "source": [
        "###From above plot bar we can say that **Couples(No Children)**  has most number of booking."
      ],
      "metadata": {
        "id": "la2tNL03yPBr"
      }
    },
    {
      "cell_type": "markdown",
      "source": [
        "**5. Which type of meal booked ?** \n",
        "\n",
        "**Categories are presented in standard hospitality meal packages:**\n",
        "\n",
        "* Undefined/SC — no meal package\n",
        "* BB — Bed & Breakfast\n",
        "* HB — Half board (breakfast and one other meal — usually dinner)\n",
        "* FB — Full board (breakfast, lunch and dinner)\n",
        "\n",
        "\n",
        "\n",
        "\n",
        "\n"
      ],
      "metadata": {
        "id": "2kipJEG5y2sn"
      }
    },
    {
      "cell_type": "code",
      "source": [
        "#Print diffrent types of meals consumed by guests\n",
        "correct_hb.meal.value_counts()"
      ],
      "metadata": {
        "colab": {
          "base_uri": "https://localhost:8080/"
        },
        "id": "j0HsH-Cz4xZY",
        "outputId": "5da5c1f6-2fac-4ec1-971f-7f07368a2419"
      },
      "execution_count": null,
      "outputs": [
        {
          "output_type": "execute_result",
          "data": {
            "text/plain": [
              "BB           92236\n",
              "HB           14458\n",
              "SC           10549\n",
              "Undefined     1169\n",
              "FB             798\n",
              "Name: meal, dtype: int64"
            ]
          },
          "metadata": {},
          "execution_count": 34
        }
      ]
    },
    {
      "cell_type": "code",
      "source": [
        "# Enlarging the pie chart\n",
        "plt.rcParams['figure.figsize'] = 8,8\n",
        "\n",
        "# Indexing labels. tolist() will convert the index to list for easy manipulation\n",
        "labels = correct_hb['meal'].value_counts().index.tolist()\n",
        "\n",
        "sizes = correct_hb['meal'].value_counts().tolist()\n",
        "\n",
        "# As the name suggest, explode will determine how much each section is separated from each other \n",
        "explode = (0.1, 0,0,0,0)\n",
        "\n",
        "# Determine colour of pie chart\n",
        "colors = ['gold', 'aqua','red','yellowgreen']\n",
        "\n",
        "plt.pie(sizes, explode= explode, labels=labels, colors=colors, autopct='%1.1f%%')\n",
        "plt.show()"
      ],
      "metadata": {
        "id": "pgSz3jbhf9J5",
        "colab": {
          "base_uri": "https://localhost:8080/",
          "height": 466
        },
        "outputId": "995c52b7-5006-4fa9-ecc1-16be3b8052ff"
      },
      "execution_count": null,
      "outputs": [
        {
          "output_type": "display_data",
          "data": {
            "text/plain": [
              "<Figure size 576x576 with 1 Axes>"
            ],
            "image/png": "[encoded data removed]"
          },
          "metadata": {}
        }
      ]
    },
    {
      "cell_type": "markdown",
      "source": [
        "###As we can see from above graph **BB i.e. Bed & Breakfast** is most preferable meal type of the guests which is 77.4%"
      ],
      "metadata": {
        "id": "W6U-lzE05gC3"
      }
    },
    {
      "cell_type": "markdown",
      "source": [
        "**6. From which country most guests comes?**"
      ],
      "metadata": {
        "id": "gpzepGYH7MH2"
      }
    },
    {
      "cell_type": "code",
      "source": [
        "#Taking top 10 country according to number of guest, to analyze the largest number quest comes from\n",
        "\n",
        "top_10_countries = correct_hb[correct_hb['is_canceled']==0]['country'].value_counts()[:10]\n",
        "top_10_countries"
      ],
      "metadata": {
        "colab": {
          "base_uri": "https://localhost:8080/"
        },
        "id": "s-uJ3l6B18b9",
        "outputId": "94628848-c390-4803-bd40-6a90762fac57"
      },
      "execution_count": null,
      "outputs": [
        {
          "output_type": "execute_result",
          "data": {
            "text/plain": [
              "PRT    20977\n",
              "GBR     9668\n",
              "FRA     8468\n",
              "ESP     6383\n",
              "DEU     6067\n",
              "IRL     2542\n",
              "ITA     2428\n",
              "BEL     1868\n",
              "NLD     1716\n",
              "USA     1592\n",
              "Name: country, dtype: int64"
            ]
          },
          "metadata": {},
          "execution_count": 36
        }
      ]
    },
    {
      "cell_type": "code",
      "source": [
        "#Renaming the index\n",
        "\n",
        "top_10_countries = top_10_countries.reset_index().rename(columns = {'index':'country','country':'number_of_bookings'})\n",
        "\n",
        "#Adding percentage column\n",
        "top_10_countries['percentage'] = (top_10_countries['number_of_bookings']/top_10_countries['number_of_bookings'].sum())*100"
      ],
      "metadata": {
        "id": "9ZaYyNOv66Jx"
      },
      "execution_count": null,
      "outputs": []
    },
    {
      "cell_type": "code",
      "source": [
        "top_10_countries"
      ],
      "metadata": {
        "colab": {
          "base_uri": "https://localhost:8080/",
          "height": 363
        },
        "id": "tx1mr8rF-6l6",
        "outputId": "c9d859af-5c02-4847-98b2-b021934d3a17"
      },
      "execution_count": null,
      "outputs": [
        {
          "output_type": "execute_result",
          "data": {
            "text/plain": [
              "  country  number_of_bookings  percentage\n",
              "0     PRT               20977   33.993421\n",
              "1     GBR                9668   15.667083\n",
              "2     FRA                8468   13.722472\n",
              "3     ESP                6383   10.343710\n",
              "4     DEU                6067    9.831629\n",
              "5     IRL                2542    4.119334\n",
              "6     ITA                2428    3.934596\n",
              "7     BEL                1868    3.027111\n",
              "8     NLD                1716    2.780794\n",
              "9     USA                1592    2.579851"
            ],
            "text/html": [
              "\n",
              "  <div id=\"df-f5e3d2cc-31ea-48d8-a453-2a50ba16ab50\">\n",
              "    <div class=\"colab-df-container\">\n",
              "      <div>\n",
              "<style scoped>\n",
              "    .dataframe tbody tr th:only-of-type {\n",
              "        vertical-align: middle;\n",
              "    }\n",
              "\n",
              "    .dataframe tbody tr th {\n",
              "        vertical-align: top;\n",
              "    }\n",
              "\n",
              "    .dataframe thead th {\n",
              "        text-align: right;\n",
              "    }\n",
              "</style>\n",
              "<table border=\"1\" class=\"dataframe\">\n",
              "  <thead>\n",
              "    <tr style=\"text-align: right;\">\n",
              "      <th></th>\n",
              "      <th>country</th>\n",
              "      <th>number_of_bookings</th>\n",
              "      <th>percentage</th>\n",
              "    </tr>\n",
              "  </thead>\n",
              "  <tbody>\n",
              "    <tr>\n",
              "      <th>0</th>\n",
              "      <td>PRT</td>\n",
              "      <td>20977</td>\n",
              "      <td>33.993421</td>\n",
              "    </tr>\n",
              "    <tr>\n",
              "      <th>1</th>\n",
              "      <td>GBR</td>\n",
              "      <td>9668</td>\n",
              "      <td>15.667083</td>\n",
              "    </tr>\n",
              "    <tr>\n",
              "      <th>2</th>\n",
              "      <td>FRA</td>\n",
              "      <td>8468</td>\n",
              "      <td>13.722472</td>\n",
              "    </tr>\n",
              "    <tr>\n",
              "      <th>3</th>\n",
              "      <td>ESP</td>\n",
              "      <td>6383</td>\n",
              "      <td>10.343710</td>\n",
              "    </tr>\n",
              "    <tr>\n",
              "      <th>4</th>\n",
              "      <td>DEU</td>\n",
              "      <td>6067</td>\n",
              "      <td>9.831629</td>\n",
              "    </tr>\n",
              "    <tr>\n",
              "      <th>5</th>\n",
              "      <td>IRL</td>\n",
              "      <td>2542</td>\n",
              "      <td>4.119334</td>\n",
              "    </tr>\n",
              "    <tr>\n",
              "      <th>6</th>\n",
              "      <td>ITA</td>\n",
              "      <td>2428</td>\n",
              "      <td>3.934596</td>\n",
              "    </tr>\n",
              "    <tr>\n",
              "      <th>7</th>\n",
              "      <td>BEL</td>\n",
              "      <td>1868</td>\n",
              "      <td>3.027111</td>\n",
              "    </tr>\n",
              "    <tr>\n",
              "      <th>8</th>\n",
              "      <td>NLD</td>\n",
              "      <td>1716</td>\n",
              "      <td>2.780794</td>\n",
              "    </tr>\n",
              "    <tr>\n",
              "      <th>9</th>\n",
              "      <td>USA</td>\n",
              "      <td>1592</td>\n",
              "      <td>2.579851</td>\n",
              "    </tr>\n",
              "  </tbody>\n",
              "</table>\n",
              "</div>\n",
              "      <button class=\"colab-df-convert\" onclick=\"convertToInteractive('df-f5e3d2cc-31ea-48d8-a453-2a50ba16ab50')\"\n",
              "              title=\"Convert this dataframe to an interactive table.\"\n",
              "              style=\"display:none;\">\n",
              "        \n",
              "  <svg xmlns=\"http://www.w3.org/2000/svg\" height=\"24px\"viewBox=\"0 0 24 24\"\n",
              "       width=\"24px\">\n",
              "    <path d=\"M0 0h24v24H0V0z\" fill=\"none\"/>\n",
              "    <path d=\"M18.56 5.44l.94 2.06.94-2.06 2.06-.94-2.06-.94-.94-2.06-.94 2.06-2.06.94zm-11 1L8.5 8.5l.94-2.06 2.06-.94-2.06-.94L8.5 2.5l-.94 2.06-2.06.94zm10 10l.94 2.06.94-2.06 2.06-.94-2.06-.94-.94-2.06-.94 2.06-2.06.94z\"/><path d=\"M17.41 7.96l-1.37-1.37c-.4-.4-.92-.59-1.43-.59-.52 0-1.04.2-1.43.59L10.3 9.45l-7.72 7.72c-.78.78-.78 2.05 0 2.83L4 21.41c.39.39.9.59 1.41.59.51 0 1.02-.2 1.41-.59l7.78-7.78 2.81-2.81c.8-.78.8-2.07 0-2.86zM5.41 20L4 18.59l7.72-7.72 1.47 1.35L5.41 20z\"/>\n",
              "  </svg>\n",
              "      </button>\n",
              "      \n",
              "  <style>\n",
              "    .colab-df-container {\n",
              "      display:flex;\n",
              "      flex-wrap:wrap;\n",
              "      gap: 12px;\n",
              "    }\n",
              "\n",
              "    .colab-df-convert {\n",
              "      background-color: #E8F0FE;\n",
              "      border: none;\n",
              "      border-radius: 50%;\n",
              "      cursor: pointer;\n",
              "      display: none;\n",
              "      fill: #1967D2;\n",
              "      height: 32px;\n",
              "      padding: 0 0 0 0;\n",
              "      width: 32px;\n",
              "    }\n",
              "\n",
              "    .colab-df-convert:hover {\n",
              "      background-color: #E2EBFA;\n",
              "      box-shadow: 0px 1px 2px rgba(60, 64, 67, 0.3), 0px 1px 3px 1px rgba(60, 64, 67, 0.15);\n",
              "      fill: #174EA6;\n",
              "    }\n",
              "\n",
              "    [theme=dark] .colab-df-convert {\n",
              "      background-color: #3B4455;\n",
              "      fill: #D2E3FC;\n",
              "    }\n",
              "\n",
              "    [theme=dark] .colab-df-convert:hover {\n",
              "      background-color: #434B5C;\n",
              "      box-shadow: 0px 1px 3px 1px rgba(0, 0, 0, 0.15);\n",
              "      filter: drop-shadow(0px 1px 2px rgba(0, 0, 0, 0.3));\n",
              "      fill: #FFFFFF;\n",
              "    }\n",
              "  </style>\n",
              "\n",
              "      <script>\n",
              "        const buttonEl =\n",
              "          document.querySelector('#df-f5e3d2cc-31ea-48d8-a453-2a50ba16ab50 button.colab-df-convert');\n",
              "        buttonEl.style.display =\n",
              "          google.colab.kernel.accessAllowed ? 'block' : 'none';\n",
              "\n",
              "        async function convertToInteractive(key) {\n",
              "          const element = document.querySelector('#df-f5e3d2cc-31ea-48d8-a453-2a50ba16ab50');\n",
              "          const dataTable =\n",
              "            await google.colab.kernel.invokeFunction('convertToInteractive',\n",
              "                                                     [key], {});\n",
              "          if (!dataTable) return;\n",
              "\n",
              "          const docLinkHtml = 'Like what you see? Visit the ' +\n",
              "            '<a target=\"_blank\" href=https://colab.research.google.com/notebooks/data_table.ipynb>data table notebook</a>'\n",
              "            + ' to learn more about interactive tables.';\n",
              "          element.innerHTML = '';\n",
              "          dataTable['output_type'] = 'display_data';\n",
              "          await google.colab.output.renderOutput(dataTable, element);\n",
              "          const docLink = document.createElement('div');\n",
              "          docLink.innerHTML = docLinkHtml;\n",
              "          element.appendChild(docLink);\n",
              "        }\n",
              "      </script>\n",
              "    </div>\n",
              "  </div>\n",
              "  "
            ]
          },
          "metadata": {},
          "execution_count": 38
        }
      ]
    },
    {
      "cell_type": "code",
      "source": [
        "#Draw the graph\n",
        "plt.figure(figsize=(10,10))\n",
        "sns.barplot(x=\"country\", y=\"percentage\", data=top_10_countries).set(title='Percentage of guest per country')\n",
        "plt.show()"
      ],
      "metadata": {
        "colab": {
          "base_uri": "https://localhost:8080/",
          "height": 621
        },
        "id": "sKzEi-qlBCOG",
        "outputId": "1f365583-5c75-4b4d-c752-9e6c740969fc"
      },
      "execution_count": null,
      "outputs": [
        {
          "output_type": "display_data",
          "data": {
            "text/plain": [
              "<Figure size 720x720 with 1 Axes>"
            ],
            "image/png": "[encoded data removed]"
          },
          "metadata": {
            "needs_background": "light"
          }
        }
      ]
    },
    {
      "cell_type": "markdown",
      "source": [
        "###From above graph we can say that most of the guests come from **PRT i.e. Portugal**.\n",
        "\n",
        "---\n",
        "\n"
      ],
      "metadata": {
        "id": "3KIDfvsPBrH9"
      }
    },
    {
      "cell_type": "markdown",
      "source": [
        "**7. Which type of market segment is used for bookings hotels ?**\n",
        "\n",
        "\n"
      ],
      "metadata": {
        "id": "VQxRv4PbCTDZ"
      }
    },
    {
      "cell_type": "code",
      "source": [
        "#Print market segment used for booking hotels\n",
        "correct_hb.market_segment.value_counts()"
      ],
      "metadata": {
        "colab": {
          "base_uri": "https://localhost:8080/"
        },
        "id": "t2eMlyMfEVC2",
        "outputId": "8f81df04-58f1-480c-e6f8-a89f9332c6a5"
      },
      "execution_count": null,
      "outputs": [
        {
          "output_type": "execute_result",
          "data": {
            "text/plain": [
              "Online TA        56408\n",
              "Offline TA/TO    24182\n",
              "Groups           19791\n",
              "Direct           12582\n",
              "Corporate         5282\n",
              "Complementary      728\n",
              "Aviation           235\n",
              "Undefined            2\n",
              "Name: market_segment, dtype: int64"
            ]
          },
          "metadata": {},
          "execution_count": 40
        }
      ]
    },
    {
      "cell_type": "code",
      "source": [
        "#Darw the graph\n",
        "plt.title(\"Segments wise booking\")\n",
        "sns.countplot(x = \"market_segment\", data = correct_hb)\n",
        "plt.xticks(rotation = 90)\n",
        "plt.show()"
      ],
      "metadata": {
        "colab": {
          "base_uri": "https://localhost:8080/",
          "height": 584
        },
        "id": "XvAPYBnfCShW",
        "outputId": "cba2d7d2-d6c9-40a5-bd09-a2ba5863f58a"
      },
      "execution_count": null,
      "outputs": [
        {
          "output_type": "display_data",
          "data": {
            "text/plain": [
              "<Figure size 576x576 with 1 Axes>"
            ],
            "image/png": "[encoded data removed]"
          },
          "metadata": {
            "needs_background": "light"
          }
        }
      ]
    },
    {
      "cell_type": "markdown",
      "source": [
        "###From above graph we can say that **online TA** market segment is mostly used to book a hotel."
      ],
      "metadata": {
        "id": "-MD55OnTFRkn"
      }
    },
    {
      "cell_type": "markdown",
      "source": [
        "**8. How much guests pay per night for each types of rooms ?**\n",
        "\n"
      ],
      "metadata": {
        "id": "MkliPgHMFsvq"
      }
    },
    {
      "cell_type": "code",
      "source": [
        "#Not canceled booking of hotels\n",
        "hotels_not_canceled = correct_hb[correct_hb['is_canceled'] == 0]"
      ],
      "metadata": {
        "id": "aH0G6y-SH3Be"
      },
      "execution_count": null,
      "outputs": []
    },
    {
      "cell_type": "code",
      "source": [
        "#ploting box plot for analysis\n",
        "\n",
        "plt.figure(figsize=(12,8))\n",
        "sns.boxplot(x='reserved_room_type', y ='adr',data = hotels_not_canceled,hue='hotel')\n",
        "plt.title('Price per night for each types of rooms',fontsize=20)\n",
        "plt.xlabel('Room Type',fontsize=15)\n",
        "plt.ylabel('Price',fontsize=15)\n",
        "plt.show()"
      ],
      "metadata": {
        "colab": {
          "base_uri": "https://localhost:8080/",
          "height": 523
        },
        "id": "1o7gilqMHNub",
        "outputId": "c77297ae-264f-45a3-9ee5-45800c6b9646"
      },
      "execution_count": null,
      "outputs": [
        {
          "output_type": "display_data",
          "data": {
            "text/plain": [
              "<Figure size 864x576 with 1 Axes>"
            ],
            "image/png": "[encoded data removed]"
          },
          "metadata": {
            "needs_background": "light"
          }
        }
      ]
    },
    {
      "cell_type": "markdown",
      "source": [
        "###From above graph we can say that **'G'** category room of city hotel are much costlier than other."
      ],
      "metadata": {
        "id": "AmNeZSQANsTF"
      }
    },
    {
      "cell_type": "markdown",
      "source": [
        "**Assigned room type**"
      ],
      "metadata": {
        "id": "vfhenN8_MgCu"
      }
    },
    {
      "cell_type": "code",
      "source": [
        "#Print assigned room type to guests\n",
        "correct_hb.assigned_room_type.value_counts()"
      ],
      "metadata": {
        "colab": {
          "base_uri": "https://localhost:8080/"
        },
        "id": "nxmBiQBQMfkr",
        "outputId": "eeb385c0-92b4-4647-b2e1-3defa07ffbba"
      },
      "execution_count": null,
      "outputs": [
        {
          "output_type": "execute_result",
          "data": {
            "text/plain": [
              "A    74020\n",
              "D    25309\n",
              "E     7798\n",
              "F     3751\n",
              "G     2549\n",
              "C     2370\n",
              "B     2154\n",
              "H      712\n",
              "I      359\n",
              "K      187\n",
              "L        1\n",
              "Name: assigned_room_type, dtype: int64"
            ]
          },
          "metadata": {},
          "execution_count": 44
        }
      ]
    },
    {
      "cell_type": "code",
      "source": [
        "#Draw the graph\n",
        "plt.figure(figsize=(14,7))\n",
        "sns.countplot(correct_hb['assigned_room_type'])\n",
        "plt.show()"
      ],
      "metadata": {
        "colab": {
          "base_uri": "https://localhost:8080/",
          "height": 498
        },
        "id": "nFPLvd8pMwOI",
        "outputId": "96d154f9-6204-449e-b2d2-9761325adf01"
      },
      "execution_count": null,
      "outputs": [
        {
          "output_type": "stream",
          "name": "stderr",
          "text": [
            "/usr/local/lib/python3.7/dist-packages/seaborn/_decorators.py:43: FutureWarning: Pass the following variable as a keyword arg: x. From version 0.12, the only valid positional argument will be `data`, and passing other arguments without an explicit keyword will result in an error or misinterpretation.\n",
            "  FutureWarning\n"
          ]
        },
        {
          "output_type": "display_data",
          "data": {
            "text/plain": [
              "<Figure size 1008x504 with 1 Axes>"
            ],
            "image/png": "[encoded data removed]"
          },
          "metadata": {
            "needs_background": "light"
          }
        }
      ]
    },
    {
      "cell_type": "markdown",
      "source": [
        "###From above we can say that **'A'** type rooms are most assigned room type among all."
      ],
      "metadata": {
        "id": "aeZ6M2WoNQDR"
      }
    },
    {
      "cell_type": "markdown",
      "source": [
        "# **Inferences and Conclusion**:\n",
        "\n",
        "---\n",
        "\n",
        "\n",
        "We used the dataset that contains data about hotel bookings.\n",
        "\n",
        "We cleaned and preprocessed the data and then we performed the exploratory data analysis to extract information from the data to answer the following questions.\n",
        "\n",
        "**1. What types of hotel in market and how many numbers of hotels in each type?**\n",
        "\n",
        " **2. How Many booking were cancelled for diffrent types of hotels?**\n",
        "\n",
        "* **Year wise comparision of booking of hotels.**\n",
        "\n",
        "**3. Which is the busiest month for hotels ?**\n",
        "\n",
        "*   **Now we will check comparatively for both types of hotels which month is busiest.**\n",
        "\n",
        "**4. Which was the most booked accommodation type (Single, Couple, Family)?**\n",
        "\n",
        "**5. Which type of meal booked ?** \n",
        "\n",
        "**6. From which country most guests comes?**\n",
        "\n",
        "**7. Which type of market segment is used for bookings hotels ?**\n",
        "\n",
        "**8. How much guests pay per night for each types of rooms ?**\n",
        "\n",
        "*   **Assigned room type**\n",
        "\n",
        "\n",
        "We learned that\n",
        "\n",
        "*  According to this analysis number of City hotels comparatively more than Resort hotels.\n",
        "Resort Hotel tend to be on the expensive side and most people will just stick with city hotel.\n",
        "\n",
        "*  City hotels bookings are more canceled than resort hotels.\n",
        "\n",
        "*   In year 2016 most numbers of guests visited the both type of hotels compare to other years.\n",
        "*   August is the busiest month for hotels,which means august month has most number of bookings.\n",
        "\n",
        "\n",
        "*  August is the busiest month for both type of hotels.\n",
        "\n",
        "*   Couples(No Children) has most number of booking.\n",
        "*   BB i.e. Bed & Breakfast is most preferable meal type of the guests which is 77.4%\n",
        "\n",
        "*   Most of the guests come from PRT i.e. Portugal.\n",
        "*   Guest uses most online TA market segment for hotels booking.\n",
        "\n",
        "*    'G' category room of city hotel are much costlier than other.\n",
        "*    'A' type rooms are most assigned room type among all.\n"
      ],
      "metadata": {
        "id": "KkYYET97f29e"
      }
    },
    {
      "cell_type": "markdown",
      "source": [
        "##**References**\n",
        "----\n",
        "\n",
        "References:\n",
        "\n",
        "*   Pandas user guide: https://pandas.pydata.org/docs/user_guide/index.html\n",
        "*  Matplotlib user guide: https://matplotlib.org/3.3.1/users/index.html\n",
        "\n",
        "*  Seaborn user guide & tutorial: https://seaborn.pydata.org/tutorial.html\n",
        "\n",
        "*  Tutorials: 1) https://stackoverflow.com ,  2) https://www.w3schools.com\n",
        "            \n",
        "\n",
        "\n",
        "\n",
        "\n"
      ],
      "metadata": {
        "id": "sJoippoeZoCP"
      }
    }
  ]
}